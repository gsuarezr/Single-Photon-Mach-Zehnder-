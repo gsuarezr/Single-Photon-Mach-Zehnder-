{
 "cells": [
  {
   "cell_type": "markdown",
   "metadata": {},
   "source": [
    "# Esta parte la puede ignorar es una manera rapida de hacer los calculos con matrices, es un pedazo del programa que uso para hacer las graficas, de la parte de N interferometros"
   ]
  },
  {
   "cell_type": "code",
   "execution_count": 1,
   "metadata": {},
   "outputs": [],
   "source": [
    "import matplotlib.pyplot as plt\n",
    "import numpy as np\n",
    "from sympy import *"
   ]
  },
  {
   "cell_type": "code",
   "execution_count": 2,
   "metadata": {},
   "outputs": [],
   "source": [
    "init_printing(use_unicode=True)\n",
    "theta1, theta2, theta3,theta4,gamma1,gamma2,gamma3,gamma4= symbols('theta1 theta2 theta3 thetha4 gamma1 gamma2 gamma3 gamma4 ',real=True)\n",
    "beta=Symbol('beta')"
   ]
  },
  {
   "cell_type": "code",
   "execution_count": 3,
   "metadata": {},
   "outputs": [
    {
     "data": {
      "image/png": "[encoded data removed]",
      "text/latex": [
       "$\\displaystyle \\left[\\begin{matrix}\\cos{\\left(\\theta_{1} \\right)} & i \\sin{\\left(\\theta_{1} \\right)}\\\\i \\sin{\\left(\\theta_{1} \\right)} & \\cos{\\left(\\theta_{1} \\right)}\\end{matrix}\\right]$"
      ],
      "text/plain": [
       "⎡ cos(θ₁)   ⅈ⋅sin(θ₁)⎤\n",
       "⎢                    ⎥\n",
       "⎣ⅈ⋅sin(θ₁)   cos(θ₁) ⎦"
      ]
     },
     "execution_count": 3,
     "metadata": {},
     "output_type": "execute_result"
    }
   ],
   "source": [
    "BS1=Matrix([[cos(theta1),I*sin(theta1)],[I*sin(theta1),cos(theta1)]])\n",
    "BS2=Matrix([[cos(theta2),I*sin(theta2)],[I*sin(theta2),cos(theta2)]])\n",
    "BS3=Matrix([[cos(theta3),I*sin(theta3)],[I*sin(theta3),cos(theta3)]])\n",
    "BS4=Matrix([[cos(theta4),I*sin(theta4)],[I*sin(theta4),cos(theta4)]])\n",
    "BS1"
   ]
  },
  {
   "cell_type": "code",
   "execution_count": 4,
   "metadata": {},
   "outputs": [
    {
     "data": {
      "image/png": "[encoded data removed]",
      "text/latex": [
       "$\\displaystyle \\left[\\begin{matrix}0 & e^{i \\gamma_{2}}\\\\e^{i \\gamma_{1}} & 0\\end{matrix}\\right]$"
      ],
      "text/plain": [
       "⎡        ⅈ⋅γ₂⎤\n",
       "⎢  0    ℯ    ⎥\n",
       "⎢            ⎥\n",
       "⎢ ⅈ⋅γ₁       ⎥\n",
       "⎣ℯ        0  ⎦"
      ]
     },
     "execution_count": 4,
     "metadata": {},
     "output_type": "execute_result"
    }
   ],
   "source": [
    "M1=Matrix([[0,exp(I*gamma2)],[exp(I*gamma1),0]])\n",
    "M1"
   ]
  },
  {
   "cell_type": "code",
   "execution_count": 5,
   "metadata": {},
   "outputs": [],
   "source": [
    "Av=Matrix([[ 1,0],[0,beta]])\n",
    "Ah=Matrix([[ beta,0],[0,1]])"
   ]
  },
  {
   "cell_type": "code",
   "execution_count": 6,
   "metadata": {},
   "outputs": [
    {
     "data": {
      "image/png": "[encoded data removed]",
      "text/latex": [
       "$\\displaystyle \\left[\\begin{matrix}0\\\\1\\end{matrix}\\right]$"
      ],
      "text/plain": [
       "⎡0⎤\n",
       "⎢ ⎥\n",
       "⎣1⎦"
      ]
     },
     "execution_count": 6,
     "metadata": {},
     "output_type": "execute_result"
    }
   ],
   "source": [
    "jones1= Matrix([0,1])\n",
    "jones0= Matrix([1,0])\n",
    "jones1"
   ]
  },
  {
   "cell_type": "code",
   "execution_count": 7,
   "metadata": {},
   "outputs": [
    {
     "data": {
      "image/png": "[encoded data removed]",
      "text/latex": [
       "$\\displaystyle \\left|{i \\beta e^{i \\gamma_{2}} \\sin{\\left(\\theta_{1} \\right)} \\cos{\\left(\\theta_{2} \\right)} + i e^{i \\gamma_{1}} \\sin{\\left(\\theta_{2} \\right)} \\cos{\\left(\\theta_{1} \\right)}}\\right|^{2}$"
      ],
      "text/plain": [
       "                                                     2\n",
       "│     ⅈ⋅γ₂                      ⅈ⋅γ₁                │ \n",
       "│ⅈ⋅β⋅ℯ    ⋅sin(θ₁)⋅cos(θ₂) + ⅈ⋅ℯ    ⋅sin(θ₂)⋅cos(θ₁)│ "
      ]
     },
     "execution_count": 7,
     "metadata": {},
     "output_type": "execute_result"
    }
   ],
   "source": [
    "r=BS2*M1*Av*BS1*jones0\n",
    "pd1hv=jones0.T*r\n",
    "abs(pd1hv[0])**2"
   ]
  },
  {
   "cell_type": "code",
   "execution_count": 8,
   "metadata": {},
   "outputs": [
    {
     "data": {
      "image/png": "[encoded data removed]",
      "text/latex": [
       "$\\displaystyle \\left|{\\beta e^{i \\gamma_{2}} \\sin{\\left(\\theta_{1} \\right)} \\sin{\\left(\\theta_{2} \\right)} - e^{i \\gamma_{1}} \\cos{\\left(\\theta_{1} \\right)} \\cos{\\left(\\theta_{2} \\right)}}\\right|^{2}$"
      ],
      "text/plain": [
       "                                                 2\n",
       "│   ⅈ⋅γ₂                    ⅈ⋅γ₁                │ \n",
       "│β⋅ℯ    ⋅sin(θ₁)⋅sin(θ₂) - ℯ    ⋅cos(θ₁)⋅cos(θ₂)│ "
      ]
     },
     "execution_count": 8,
     "metadata": {},
     "output_type": "execute_result"
    }
   ],
   "source": [
    "pd2hv=jones1.T*r\n",
    "abs(pd2hv[0])**2"
   ]
  },
  {
   "cell_type": "code",
   "execution_count": 9,
   "metadata": {},
   "outputs": [
    {
     "data": {
      "image/png": "[encoded data removed]",
      "text/latex": [
       "$\\displaystyle \\left|{i \\beta e^{i \\gamma_{1}} \\sin{\\left(\\theta_{2} \\right)} \\cos{\\left(\\theta_{1} \\right)} + i e^{i \\gamma_{2}} \\sin{\\left(\\theta_{1} \\right)} \\cos{\\left(\\theta_{2} \\right)}}\\right|^{2}$"
      ],
      "text/plain": [
       "                                                     2\n",
       "│     ⅈ⋅γ₁                      ⅈ⋅γ₂                │ \n",
       "│ⅈ⋅β⋅ℯ    ⋅sin(θ₂)⋅cos(θ₁) + ⅈ⋅ℯ    ⋅sin(θ₁)⋅cos(θ₂)│ "
      ]
     },
     "execution_count": 9,
     "metadata": {},
     "output_type": "execute_result"
    }
   ],
   "source": [
    "r=BS2*M1*Ah*BS1*jones0\n",
    "pd1hh=jones0.T*r\n",
    "abs(pd1hh[0])**2"
   ]
  },
  {
   "cell_type": "code",
   "execution_count": 10,
   "metadata": {},
   "outputs": [
    {
     "data": {
      "image/png": "[encoded data removed]",
      "text/latex": [
       "$\\displaystyle \\left|{\\beta e^{i \\gamma_{1}} \\cos{\\left(\\theta_{1} \\right)} \\cos{\\left(\\theta_{2} \\right)} - e^{i \\gamma_{2}} \\sin{\\left(\\theta_{1} \\right)} \\sin{\\left(\\theta_{2} \\right)}}\\right|^{2}$"
      ],
      "text/plain": [
       "                                                 2\n",
       "│   ⅈ⋅γ₁                    ⅈ⋅γ₂                │ \n",
       "│β⋅ℯ    ⋅cos(θ₁)⋅cos(θ₂) - ℯ    ⋅sin(θ₁)⋅sin(θ₂)│ "
      ]
     },
     "execution_count": 10,
     "metadata": {},
     "output_type": "execute_result"
    }
   ],
   "source": [
    "pd2hh=jones1.T*r\n",
    "abs(pd2hh[0])**2"
   ]
  },
  {
   "cell_type": "code",
   "execution_count": 11,
   "metadata": {},
   "outputs": [
    {
     "data": {
      "image/png": "[encoded data removed]",
      "text/latex": [
       "$\\displaystyle \\left|{\\beta e^{i \\gamma_{2}} \\cos{\\left(\\theta_{1} \\right)} \\cos{\\left(\\theta_{2} \\right)} - e^{i \\gamma_{1}} \\sin{\\left(\\theta_{1} \\right)} \\sin{\\left(\\theta_{2} \\right)}}\\right|^{2}$"
      ],
      "text/plain": [
       "                                                 2\n",
       "│   ⅈ⋅γ₂                    ⅈ⋅γ₁                │ \n",
       "│β⋅ℯ    ⋅cos(θ₁)⋅cos(θ₂) - ℯ    ⋅sin(θ₁)⋅sin(θ₂)│ "
      ]
     },
     "execution_count": 11,
     "metadata": {},
     "output_type": "execute_result"
    }
   ],
   "source": [
    "r=BS2*M1*Av*BS1*jones1\n",
    "pd1vv=jones0.T*r\n",
    "abs(pd1vv[0])**2"
   ]
  },
  {
   "cell_type": "code",
   "execution_count": 12,
   "metadata": {},
   "outputs": [
    {
     "data": {
      "image/png": "[encoded data removed]",
      "text/latex": [
       "$\\displaystyle \\left|{i \\beta e^{i \\gamma_{2}} \\sin{\\left(\\theta_{2} \\right)} \\cos{\\left(\\theta_{1} \\right)} + i e^{i \\gamma_{1}} \\sin{\\left(\\theta_{1} \\right)} \\cos{\\left(\\theta_{2} \\right)}}\\right|^{2}$"
      ],
      "text/plain": [
       "                                                     2\n",
       "│     ⅈ⋅γ₂                      ⅈ⋅γ₁                │ \n",
       "│ⅈ⋅β⋅ℯ    ⋅sin(θ₂)⋅cos(θ₁) + ⅈ⋅ℯ    ⋅sin(θ₁)⋅cos(θ₂)│ "
      ]
     },
     "execution_count": 12,
     "metadata": {},
     "output_type": "execute_result"
    }
   ],
   "source": [
    "pd2vv=jones1.T*r\n",
    "abs(pd2vv[0])**2"
   ]
  },
  {
   "cell_type": "code",
   "execution_count": 13,
   "metadata": {},
   "outputs": [
    {
     "data": {
      "image/png": "[encoded data removed]",
      "text/latex": [
       "$\\displaystyle \\left|{\\beta e^{i \\gamma_{1}} \\sin{\\left(\\theta_{1} \\right)} \\sin{\\left(\\theta_{2} \\right)} - e^{i \\gamma_{2}} \\cos{\\left(\\theta_{1} \\right)} \\cos{\\left(\\theta_{2} \\right)}}\\right|^{2}$"
      ],
      "text/plain": [
       "                                                 2\n",
       "│   ⅈ⋅γ₁                    ⅈ⋅γ₂                │ \n",
       "│β⋅ℯ    ⋅sin(θ₁)⋅sin(θ₂) - ℯ    ⋅cos(θ₁)⋅cos(θ₂)│ "
      ]
     },
     "execution_count": 13,
     "metadata": {},
     "output_type": "execute_result"
    }
   ],
   "source": [
    "r=BS2*M1*Ah*BS1*jones1\n",
    "pd1vh=jones0.T*r\n",
    "abs(pd1vh[0])**2"
   ]
  },
  {
   "cell_type": "code",
   "execution_count": 14,
   "metadata": {},
   "outputs": [
    {
     "data": {
      "image/png": "[encoded data removed]",
      "text/latex": [
       "$\\displaystyle \\left|{i \\beta e^{i \\gamma_{1}} \\sin{\\left(\\theta_{1} \\right)} \\cos{\\left(\\theta_{2} \\right)} + i e^{i \\gamma_{2}} \\sin{\\left(\\theta_{2} \\right)} \\cos{\\left(\\theta_{1} \\right)}}\\right|^{2}$"
      ],
      "text/plain": [
       "                                                     2\n",
       "│     ⅈ⋅γ₁                      ⅈ⋅γ₂                │ \n",
       "│ⅈ⋅β⋅ℯ    ⋅sin(θ₁)⋅cos(θ₂) + ⅈ⋅ℯ    ⋅sin(θ₂)⋅cos(θ₁)│ "
      ]
     },
     "execution_count": 14,
     "metadata": {},
     "output_type": "execute_result"
    }
   ],
   "source": [
    "pd2vh=jones1.T*r\n",
    "abs(pd2vh[0])**2"
   ]
  },
  {
   "cell_type": "markdown",
   "metadata": {},
   "source": [
    "# Como se puede ver lo que importa es si el objeto esta en el camino en el que se envia el photon o no, es decir usar el otro input channel daria los mismos resultados (no mas que $P_{D_{1}}\\xrightarrow{}P_{D_{2}}$)"
   ]
  },
  {
   "cell_type": "code",
   "execution_count": 15,
   "metadata": {},
   "outputs": [
    {
     "data": {
      "image/png": "[encoded data removed]",
      "text/latex": [
       "$\\displaystyle \\left[\\begin{matrix}\\beta e^{i \\gamma_{2}} \\cos{\\left(\\theta_{1} \\right)} \\cos{\\left(\\theta_{2} \\right)} - e^{i \\gamma_{1}} \\sin{\\left(\\theta_{1} \\right)} \\sin{\\left(\\theta_{2} \\right)}\\end{matrix}\\right]$"
      ],
      "text/plain": [
       "⎡   ⅈ⋅γ₂                    ⅈ⋅γ₁                ⎤\n",
       "⎣β⋅ℯ    ⋅cos(θ₁)⋅cos(θ₂) - ℯ    ⋅sin(θ₁)⋅sin(θ₂)⎦"
      ]
     },
     "execution_count": 15,
     "metadata": {},
     "output_type": "execute_result"
    }
   ],
   "source": [
    "pd1vv"
   ]
  },
  {
   "cell_type": "code",
   "execution_count": 16,
   "metadata": {},
   "outputs": [
    {
     "data": {
      "image/png": "[encoded data removed]",
      "text/latex": [
       "$\\displaystyle \\left[\\begin{matrix}\\beta e^{i \\gamma_{1}} \\cos{\\left(\\theta_{1} \\right)} \\cos{\\left(\\theta_{2} \\right)} - e^{i \\gamma_{2}} \\sin{\\left(\\theta_{1} \\right)} \\sin{\\left(\\theta_{2} \\right)}\\end{matrix}\\right]$"
      ],
      "text/plain": [
       "⎡   ⅈ⋅γ₁                    ⅈ⋅γ₂                ⎤\n",
       "⎣β⋅ℯ    ⋅cos(θ₁)⋅cos(θ₂) - ℯ    ⋅sin(θ₁)⋅sin(θ₂)⎦"
      ]
     },
     "execution_count": 16,
     "metadata": {},
     "output_type": "execute_result"
    }
   ],
   "source": [
    "pd2hh"
   ]
  },
  {
   "cell_type": "markdown",
   "metadata": {},
   "source": [
    "# Checamos lo mismo para cuando el camino en el que se envia el foton no es el mismo en el que esta el objeto:"
   ]
  },
  {
   "cell_type": "code",
   "execution_count": 17,
   "metadata": {},
   "outputs": [
    {
     "data": {
      "image/png": "[encoded data removed]",
      "text/latex": [
       "$\\displaystyle \\left[\\begin{matrix}- \\beta e^{i \\gamma_{1}} \\sin{\\left(\\theta_{1} \\right)} \\sin{\\left(\\theta_{2} \\right)} + e^{i \\gamma_{2}} \\cos{\\left(\\theta_{1} \\right)} \\cos{\\left(\\theta_{2} \\right)}\\end{matrix}\\right]$"
      ],
      "text/plain": [
       "⎡     ⅈ⋅γ₁                    ⅈ⋅γ₂                ⎤\n",
       "⎣- β⋅ℯ    ⋅sin(θ₁)⋅sin(θ₂) + ℯ    ⋅cos(θ₁)⋅cos(θ₂)⎦"
      ]
     },
     "execution_count": 17,
     "metadata": {},
     "output_type": "execute_result"
    }
   ],
   "source": [
    "pd1vh"
   ]
  },
  {
   "cell_type": "code",
   "execution_count": 18,
   "metadata": {},
   "outputs": [
    {
     "data": {
      "image/png": "[encoded data removed]",
      "text/latex": [
       "$\\displaystyle \\left[\\begin{matrix}- \\beta e^{i \\gamma_{2}} \\sin{\\left(\\theta_{1} \\right)} \\sin{\\left(\\theta_{2} \\right)} + e^{i \\gamma_{1}} \\cos{\\left(\\theta_{1} \\right)} \\cos{\\left(\\theta_{2} \\right)}\\end{matrix}\\right]$"
      ],
      "text/plain": [
       "⎡     ⅈ⋅γ₂                    ⅈ⋅γ₁                ⎤\n",
       "⎣- β⋅ℯ    ⋅sin(θ₁)⋅sin(θ₂) + ℯ    ⋅cos(θ₁)⋅cos(θ₂)⎦"
      ]
     },
     "execution_count": 18,
     "metadata": {},
     "output_type": "execute_result"
    }
   ],
   "source": [
    "pd2hv"
   ]
  }
 ],
 "metadata": {
  "kernelspec": {
   "display_name": "Python 3",
   "language": "python",
   "name": "python3"
  },
  "language_info": {
   "codemirror_mode": {
    "name": "ipython",
    "version": 3
   },
   "file_extension": ".py",
   "mimetype": "text/x-python",
   "name": "python",
   "nbconvert_exporter": "python",
   "pygments_lexer": "ipython3",
   "version": "3.7.6"
  }
 },
 "nbformat": 4,
 "nbformat_minor": 4
}
