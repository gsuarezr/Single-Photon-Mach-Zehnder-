{
 "cells": [
  {
   "cell_type": "code",
   "execution_count": 4,
   "metadata": {},
   "outputs": [
    {
     "name": "stdout",
     "output_type": "stream",
     "text": [
      "/home/mcditoos/Desktop/DatosGerardo2\n"
     ]
    }
   ],
   "source": [
    "%%bash \n",
    "pwd"
   ]
  },
  {
   "cell_type": "code",
   "execution_count": 5,
   "metadata": {},
   "outputs": [],
   "source": [
    "import pandas as pd"
   ]
  },
  {
   "cell_type": "code",
   "execution_count": 6,
   "metadata": {},
   "outputs": [
    {
     "data": {
      "text/plain": [
       "<matplotlib.collections.PathCollection at 0x7f7f0d67e610>"
      ]
     },
     "execution_count": 6,
     "metadata": {},
     "output_type": "execute_result"
    },
    {
     "data": {
      "image/png": "[encoded data removed]",
      "text/plain": [
       "<Figure size 432x288 with 1 Axes>"
      ]
     },
     "metadata": {
      "needs_background": "light"
     },
     "output_type": "display_data"
    }
   ],
   "source": [
    "import natsort\n",
    "from glob import glob\n",
    "filenames = glob('/home/mcditoos/Desktop/DatosGerardo2/11/gerardo*.DAT')\n",
    "\n",
    "filenames=natsort.natsorted(filenames)\n",
    "filenames\n",
    "\n",
    "import numpy as np\n",
    "\n",
    "Coincidencias=np.array([])\n",
    "for i in filenames:\n",
    "    C=pd.read_csv(i,sep='\\t')\n",
    "    lista=C.columns\n",
    "    C=C.drop([lista[0],lista[1],lista[2],lista[3],lista[5],lista[7]],axis=1)\n",
    "    promedio=C[lista[8]].mean()\n",
    "    Coincidencias=np.append(Coincidencias,promedio)\n",
    "\n",
    "coincidencias11=Coincidencias[1:]/Coincidencias[0]\n",
    "\n",
    "import matplotlib.pyplot as plt\n",
    "\n",
    "plt.scatter(range(10),coincidencias11)"
   ]
  },
  {
   "cell_type": "code",
   "execution_count": 7,
   "metadata": {},
   "outputs": [
    {
     "data": {
      "text/plain": [
       "<matplotlib.collections.PathCollection at 0x7f7edb7bcb50>"
      ]
     },
     "execution_count": 7,
     "metadata": {},
     "output_type": "execute_result"
    },
    {
     "data": {
      "image/png": "[encoded data removed]",
      "text/plain": [
       "<Figure size 432x288 with 1 Axes>"
      ]
     },
     "metadata": {
      "needs_background": "light"
     },
     "output_type": "display_data"
    }
   ],
   "source": [
    "import natsort\n",
    "from glob import glob\n",
    "filenames = glob('/home/mcditoos/Desktop/DatosGerardo2/12/gerardo*.DAT')\n",
    "\n",
    "filenames=natsort.natsorted(filenames)\n",
    "filenames\n",
    "\n",
    "Coincidencias=np.array([])\n",
    "for i in filenames:\n",
    "    C=pd.read_csv(i,sep='\\t')\n",
    "    C=C.drop([lista[0],lista[1],lista[2],lista[3],lista[5],lista[7]],axis=1)\n",
    "    promedio=C[lista[8]].mean()\n",
    "    Coincidencias=np.append(Coincidencias,promedio)\n",
    "\n",
    "coincidencias12=Coincidencias[4:]/Coincidencias[3]\n",
    "\n",
    "plt.scatter(range(10),coincidencias12)\n",
    "\n"
   ]
  },
  {
   "cell_type": "code",
   "execution_count": 8,
   "metadata": {},
   "outputs": [
    {
     "data": {
      "text/plain": [
       "<matplotlib.collections.PathCollection at 0x7f7edb72b3d0>"
      ]
     },
     "execution_count": 8,
     "metadata": {},
     "output_type": "execute_result"
    },
    {
     "data": {
      "image/png": "[encoded data removed]",
      "text/plain": [
       "<Figure size 432x288 with 1 Axes>"
      ]
     },
     "metadata": {
      "needs_background": "light"
     },
     "output_type": "display_data"
    }
   ],
   "source": [
    "filenames = glob('/home/mcditoos/Desktop/DatosGerardo2/21/gerardo*.DAT')\n",
    "\n",
    "filenames=natsort.natsorted(filenames)\n",
    "\n",
    "Coincidencias=np.array([])\n",
    "for i in filenames:\n",
    "    C=pd.read_csv(i,sep='\\t')\n",
    "    C=C.drop([lista[0],lista[1],lista[2],lista[3],lista[5],lista[7]],axis=1)\n",
    "    promedio=C[lista[8]].mean()\n",
    "    Coincidencias=np.append(Coincidencias,promedio)\n",
    "\n",
    "coincidencias21=Coincidencias[1:]/Coincidencias[0]\n",
    "\n",
    "plt.scatter(range(10),coincidencias21)\n",
    "\n",
    "\n"
   ]
  },
  {
   "cell_type": "code",
   "execution_count": 9,
   "metadata": {},
   "outputs": [
    {
     "data": {
      "text/plain": [
       "<matplotlib.collections.PathCollection at 0x7f7edb70fad0>"
      ]
     },
     "execution_count": 9,
     "metadata": {},
     "output_type": "execute_result"
    },
    {
     "data": {
      "image/png": "[encoded data removed]",
      "text/plain": [
       "<Figure size 432x288 with 1 Axes>"
      ]
     },
     "metadata": {
      "needs_background": "light"
     },
     "output_type": "display_data"
    }
   ],
   "source": [
    "filenames = glob('/home/mcditoos/Desktop/DatosGerardo2/22/gerardo*.DAT')\n",
    "\n",
    "filenames=natsort.natsorted(filenames)\n",
    "\n",
    "Coincidencias=np.array([])\n",
    "for i in filenames:\n",
    "    C=pd.read_csv(i,sep='\\t')\n",
    "    C=C.drop([lista[0],lista[1],lista[2],lista[3],lista[5],lista[7]],axis=1)\n",
    "    promedio=C[lista[8]].mean()\n",
    "    Coincidencias=np.append(Coincidencias,promedio)\n",
    "\n",
    "coincidencias22=Coincidencias[2:]/Coincidencias[1]\n",
    "\n",
    "plt.scatter(range(10),coincidencias22)"
   ]
  },
  {
   "cell_type": "code",
   "execution_count": 10,
   "metadata": {},
   "outputs": [],
   "source": [
    "from sympy import *"
   ]
  },
  {
   "cell_type": "code",
   "execution_count": 11,
   "metadata": {},
   "outputs": [],
   "source": [
    "gamma1,gamma2,beta,theta=symbols('gamma1 gamma2 beta theta',real=True)\n",
    "def N_mach(N,k):\n",
    "    if k==1:\n",
    "        lista=list()\n",
    "        K=symarray('theta', N+1,real=True)\n",
    "        for i in range(1,N+1):\n",
    "            l=i\n",
    "            BS=Matrix([[cos(K[i]),I*sin(K[i])],[I*sin(K[i]),cos(K[i])]])\n",
    "            lista.append(BS)\n",
    "    else:\n",
    "        t=Symbol('theta1',real=True)\n",
    "        lista=Matrix([[cos(t/N),I*sin(t/N)],[I*sin(t/N),cos(t/N)]])\n",
    "    return lista\n",
    "def N_mach_zehnder(N,k):\n",
    "    K=N_mach(N,k)\n",
    "    jones1= Matrix([0,1])\n",
    "    jones0= Matrix([1,0])\n",
    "    M1=Matrix([[0,exp(I*gamma2)],[exp(I*gamma1),0]])\n",
    "    objeto=Matrix([[ 1,0],[0,beta]])\n",
    "    r=jones0\n",
    "    if k==1:\n",
    "        for i in range(0,N):\n",
    "            if i==N-1:\n",
    "                r=simplify(K[i]*r)\n",
    "            else:\n",
    "                r=simplify(M1*objeto*K[i]*r)\n",
    "    else:\n",
    "        r=K*(M1*objeto*K)**(N-1)*r\n",
    "    return r\n",
    "        \n",
    "def N_Interferomemer(N,k):\n",
    "    jones1= Matrix([0,1])\n",
    "    jones0= Matrix([1,0])\n",
    "    r=N_mach_zehnder(N,k)\n",
    "    p1=jones0.T*r\n",
    "    p1=p1[0]*conjugate(p1[0])\n",
    "    p1=re(p1)\n",
    "    p2=jones1.T*r\n",
    "    p2=p2[0]*conjugate(p2[0])\n",
    "    p2=re(p2)\n",
    "    pabs=1-p1-p2\n",
    "    K=symarray('theta', N+1,real=True)\n",
    "    return pabs,p1,p2,K"
   ]
  },
  {
   "cell_type": "code",
   "execution_count": 12,
   "metadata": {},
   "outputs": [],
   "source": [
    "pabs,pd1,pd2,K=N_Interferomemer(2,1)"
   ]
  },
  {
   "cell_type": "code",
   "execution_count": 13,
   "metadata": {},
   "outputs": [
    {
     "data": {
      "text/latex": [
       "$\\displaystyle \\frac{\\cos^{2}{\\left(\\theta \\right)}}{4} + \\frac{\\cos{\\left(\\theta \\right)} \\cos{\\left(\\gamma_{1} - \\gamma_{2} \\right)}}{2} + \\frac{1}{4}$"
      ],
      "text/plain": [
       "cos(theta)**2/4 + cos(theta)*cos(gamma1 - gamma2)/2 + 1/4"
      ]
     },
     "execution_count": 13,
     "metadata": {},
     "output_type": "execute_result"
    }
   ],
   "source": [
    "pd1=simplify(pd1.subs({K[1]:pi/4,K[2]:pi/4,beta:cos(theta)}))\n",
    "pd1"
   ]
  },
  {
   "cell_type": "code",
   "execution_count": 14,
   "metadata": {},
   "outputs": [
    {
     "data": {
      "text/plain": [
       "[0,\n",
       " 0.17453292519943295,\n",
       " 0.3490658503988659,\n",
       " 0.5235987755982988,\n",
       " 0.6981317007977318,\n",
       " 0.8726646259971648,\n",
       " 1.0471975511965976,\n",
       " 1.2217304763960306,\n",
       " 1.3962634015954636,\n",
       " 1.5707963267948966]"
      ]
     },
     "execution_count": 14,
     "metadata": {},
     "output_type": "execute_result"
    }
   ],
   "source": [
    "valores=[0,np.pi/18,np.pi/9,np.pi/6,40*np.pi/180,50*np.pi/180,np.pi/3,7*np.pi/18,8*np.pi/18,np.pi/2]\n",
    "#data=np.array([])\n",
    "#for i in valores:\n",
    "    #nuevo=pd1.subs({theta:i})\n",
    "    #data=np.append(data,nuevo)\n",
    "valores"
   ]
  },
  {
   "cell_type": "code",
   "execution_count": 15,
   "metadata": {},
   "outputs": [],
   "source": [
    "f = lambdify([theta, gamma1, gamma2], pd1)"
   ]
  },
  {
   "cell_type": "code",
   "execution_count": 16,
   "metadata": {},
   "outputs": [
    {
     "name": "stdout",
     "output_type": "stream",
     "text": [
      "Parameters [1.19934683 0.34482205]\n",
      "RMSE: 0.17656790723320745\n",
      "R-squared: -5.505517897039463\n"
     ]
    },
    {
     "data": {
      "image/png": "[encoded data removed]",
      "text/plain": [
       "<Figure size 800x600 with 1 Axes>"
      ]
     },
     "metadata": {
      "needs_background": "light"
     },
     "output_type": "display_data"
    }
   ],
   "source": [
    "import numpy, scipy, matplotlib\n",
    "import matplotlib.pyplot as plt\n",
    "from scipy.optimize import curve_fit\n",
    "from scipy.optimize import differential_evolution\n",
    "import warnings\n",
    "\n",
    "xData = valores\n",
    "yData = coincidencias12\n",
    "\n",
    "\n",
    "def func(x, gamma1, gamma2): # Sigmoid A With Offset from zunzun.com\n",
    "    return  f(x,gamma1,gamma2)\n",
    "\n",
    "\n",
    "# function for genetic algorithm to minimize (sum of squared error)\n",
    "def sumOfSquaredError(parameterTuple):\n",
    "    warnings.filterwarnings(\"ignore\") # do not print warnings by genetic algorithm\n",
    "    val = func(xData, *parameterTuple)\n",
    "    return numpy.sum((yData - val) ** 2.0)\n",
    "\n",
    "\n",
    "def generate_Initial_Parameters():\n",
    "    # min and max used for bounds\n",
    "    maxX = max(xData)\n",
    "    minX = min(xData)\n",
    "    maxY = max(yData)\n",
    "    minY = min(yData)\n",
    "\n",
    "    parameterBounds = []\n",
    "    parameterBounds.append([minX, maxX]) # search bounds for a\n",
    "    parameterBounds.append([minX, maxX]) # search bounds for b\n",
    "\n",
    "    # \"seed\" the numpy random number generator for repeatable results\n",
    "    result = differential_evolution(sumOfSquaredError, parameterBounds, seed=3)\n",
    "    return result.x\n",
    "\n",
    "# generate initial parameter values\n",
    "geneticParameters = generate_Initial_Parameters()\n",
    "\n",
    "# curve fit the test data\n",
    "fittedParameters, pcov = curve_fit(func, xData, yData, geneticParameters)\n",
    "\n",
    "print('Parameters', fittedParameters)\n",
    "\n",
    "modelPredictions = func(xData, *fittedParameters) \n",
    "\n",
    "absError = modelPredictions - yData\n",
    "\n",
    "SE = numpy.square(absError) # squared errors\n",
    "MSE = numpy.mean(SE) # mean squared errors\n",
    "RMSE = numpy.sqrt(MSE) # Root Mean Squared Error, RMSE\n",
    "Rsquared = 1.0 - (numpy.var(absError) / numpy.var(yData))\n",
    "print('RMSE:', RMSE)\n",
    "print('R-squared:', Rsquared)\n",
    "\n",
    "\n",
    "\n",
    "##########################################################\n",
    "# graphics output section\n",
    "def ModelAndScatterPlot(graphWidth, graphHeight):\n",
    "    f = plt.figure(figsize=(graphWidth/100.0, graphHeight/100.0), dpi=100)\n",
    "    axes = f.add_subplot(111)\n",
    "\n",
    "    # first the raw data as a scatter plot\n",
    "    axes.plot(xData, yData,  'D')\n",
    "\n",
    "    # create data for the fitted equation plot\n",
    "    xModel = numpy.linspace(min(xData), max(xData))\n",
    "    yModel = func(xModel, *fittedParameters)\n",
    "\n",
    "    # now the model as a line plot \n",
    "    axes.plot(xModel, yModel)\n",
    "\n",
    "    axes.set_xlabel('X Data') # X axis data label\n",
    "    axes.set_ylabel('Y Data') # Y axis data label\n",
    "\n",
    "    plt.show()\n",
    "    plt.close('all') # clean up after using pyplot\n",
    "\n",
    "graphWidth = 800\n",
    "graphHeight = 600\n",
    "ModelAndScatterPlot(graphWidth, graphHeight)"
   ]
  },
  {
   "cell_type": "code",
   "execution_count": 17,
   "metadata": {},
   "outputs": [
    {
     "data": {
      "text/latex": [
       "$\\displaystyle \\frac{\\cos^{2}{\\left(\\theta \\right)}}{4} - \\frac{\\cos{\\left(\\theta \\right)} \\cos{\\left(\\gamma_{1} - \\gamma_{2} \\right)}}{2} + \\frac{1}{4}$"
      ],
      "text/plain": [
       "cos(theta)**2/4 - cos(theta)*cos(gamma1 - gamma2)/2 + 1/4"
      ]
     },
     "execution_count": 17,
     "metadata": {},
     "output_type": "execute_result"
    }
   ],
   "source": [
    "pd2=simplify(pd2.subs({K[1]:pi/4,K[2]:pi/4,beta:cos(theta)}))\n",
    "f2 = lambdify([theta, gamma1, gamma2], pd2)\n",
    "pd2"
   ]
  },
  {
   "cell_type": "code",
   "execution_count": 18,
   "metadata": {},
   "outputs": [
    {
     "name": "stdout",
     "output_type": "stream",
     "text": [
      "Parameters [113.4282665  110.28667385]\n",
      "RMSE: 0.41537023229811515\n",
      "R-squared: -210.10298916662413\n"
     ]
    },
    {
     "data": {
      "image/png": "[encoded data removed]",
      "text/plain": [
       "<Figure size 800x600 with 1 Axes>"
      ]
     },
     "metadata": {
      "needs_background": "light"
     },
     "output_type": "display_data"
    }
   ],
   "source": [
    "import numpy, scipy, matplotlib\n",
    "import matplotlib.pyplot as plt\n",
    "from scipy.optimize import curve_fit\n",
    "from scipy.optimize import differential_evolution\n",
    "import warnings\n",
    "\n",
    "xData = valores\n",
    "yData = coincidencias22\n",
    "\n",
    "\n",
    "def func(x, gamma1, gamma2): # Sigmoid A With Offset from zunzun.com\n",
    "    return  f2(x,gamma1,gamma2)\n",
    "\n",
    "\n",
    "# function for genetic algorithm to minimize (sum of squared error)\n",
    "def sumOfSquaredError(parameterTuple):\n",
    "    warnings.filterwarnings(\"ignore\") # do not print warnings by genetic algorithm\n",
    "    val = func(xData, *parameterTuple)\n",
    "    return numpy.sum((yData - val) ** 2.0)\n",
    "\n",
    "\n",
    "def generate_Initial_Parameters():\n",
    "    # min and max used for bounds\n",
    "    maxX = max(xData)\n",
    "    minX = min(xData)\n",
    "    maxY = max(yData)\n",
    "    minY = min(yData)\n",
    "\n",
    "    parameterBounds = []\n",
    "    parameterBounds.append([minX, maxX]) # search bounds for a\n",
    "    parameterBounds.append([minX, maxX]) # search bounds for b\n",
    "\n",
    "    # \"seed\" the numpy random number generator for repeatable results\n",
    "    result = differential_evolution(sumOfSquaredError, parameterBounds, seed=3)\n",
    "    return result.x\n",
    "\n",
    "# generate initial parameter values\n",
    "geneticParameters = generate_Initial_Parameters()\n",
    "\n",
    "# curve fit the test data\n",
    "fittedParameters, pcov = curve_fit(func, xData, yData, geneticParameters)\n",
    "\n",
    "print('Parameters', fittedParameters)\n",
    "\n",
    "modelPredictions = func(xData, *fittedParameters) \n",
    "\n",
    "absError = modelPredictions - yData\n",
    "\n",
    "SE = numpy.square(absError) # squared errors\n",
    "MSE = numpy.mean(SE) # mean squared errors\n",
    "RMSE = numpy.sqrt(MSE) # Root Mean Squared Error, RMSE\n",
    "Rsquared = 1.0 - (numpy.var(absError) / numpy.var(yData))\n",
    "print('RMSE:', RMSE)\n",
    "print('R-squared:', Rsquared)\n",
    "\n",
    "\n",
    "\n",
    "##########################################################\n",
    "# graphics output section\n",
    "def ModelAndScatterPlot(graphWidth, graphHeight):\n",
    "    f = plt.figure(figsize=(graphWidth/100.0, graphHeight/100.0), dpi=100)\n",
    "    axes = f.add_subplot(111)\n",
    "\n",
    "    # first the raw data as a scatter plot\n",
    "    axes.plot(xData, yData,  'D')\n",
    "\n",
    "    # create data for the fitted equation plot\n",
    "    xModel = numpy.linspace(min(xData), max(xData))\n",
    "    yModel = func(xModel, *fittedParameters)\n",
    "\n",
    "    # now the model as a line plot \n",
    "    axes.plot(xModel, yModel)\n",
    "\n",
    "    axes.set_xlabel('X Data') # X axis data label\n",
    "    axes.set_ylabel('Y Data') # Y axis data label\n",
    "\n",
    "    plt.show()\n",
    "    plt.close('all') # clean up after using pyplot\n",
    "\n",
    "graphWidth = 800\n",
    "graphHeight = 600\n",
    "ModelAndScatterPlot(graphWidth, graphHeight)"
   ]
  },
  {
   "cell_type": "code",
   "execution_count": 19,
   "metadata": {},
   "outputs": [],
   "source": [
    "filenames = glob('/home/mc/Desktop/DatosGerardo2/22/gerardo*.DAT')\n",
    "\n",
    "filenames=natsort.natsorted(filenames)\n",
    "\n",
    "Coincidencias1=np.array([])\n",
    "for i in filenames:\n",
    "    C=pd.read_csv(i,sep='\\t')\n",
    "    C=C.drop([lista[0],lista[1],lista[2],lista[3],lista[5],lista[7]],axis=1)\n",
    "    promedio=C[lista[8]].mean()\n",
    "    Coincidencias1=np.append(Coincidencias1,promedio)\n",
    "\n",
    "coincidencias1=Coincidencias1[2:]"
   ]
  },
  {
   "cell_type": "code",
   "execution_count": 20,
   "metadata": {},
   "outputs": [],
   "source": [
    "filenames = glob('/home/gsuarez/Desktop/DatosGerardo2/12/gerardo*.DAT')\n",
    "\n",
    "filenames=natsort.natsorted(filenames)\n",
    "\n",
    "Coincidencias2=np.array([])\n",
    "for i in filenames:\n",
    "    C=pd.read_csv(i,sep='\\t')\n",
    "    C=C.drop([lista[0],lista[1],lista[2],lista[3],lista[5],lista[7]],axis=1)\n",
    "    promedio=C[lista[8]].mean()\n",
    "    Coincidencias2=np.append(Coincidencias2,promedio)\n",
    "coincidencias2=Coincidencias2[4:]"
   ]
  },
  {
   "cell_type": "code",
   "execution_count": 21,
   "metadata": {},
   "outputs": [
    {
     "ename": "IndexError",
     "evalue": "index 1 is out of bounds for axis 0 with size 0",
     "output_type": "error",
     "traceback": [
      "\u001b[0;31m---------------------------------------------------------------------------\u001b[0m",
      "\u001b[0;31mIndexError\u001b[0m                                Traceback (most recent call last)",
      "\u001b[0;32m<ipython-input-21-866c5f70b16c>\u001b[0m in \u001b[0;36m<module>\u001b[0;34m\u001b[0m\n\u001b[0;32m----> 1\u001b[0;31m \u001b[0mtotal\u001b[0m\u001b[0;34m=\u001b[0m\u001b[0mCoincidencias1\u001b[0m\u001b[0;34m[\u001b[0m\u001b[0;36m1\u001b[0m\u001b[0;34m]\u001b[0m\u001b[0;34m+\u001b[0m\u001b[0mCoincidencias2\u001b[0m\u001b[0;34m[\u001b[0m\u001b[0;36m0\u001b[0m\u001b[0;34m]\u001b[0m\u001b[0;34m\u001b[0m\u001b[0;34m\u001b[0m\u001b[0m\n\u001b[0m\u001b[1;32m      2\u001b[0m \u001b[0mtotal\u001b[0m\u001b[0;34m\u001b[0m\u001b[0;34m\u001b[0m\u001b[0m\n",
      "\u001b[0;31mIndexError\u001b[0m: index 1 is out of bounds for axis 0 with size 0"
     ]
    }
   ],
   "source": [
    "total=Coincidencias1[1]+Coincidencias2[0]\n",
    "total"
   ]
  },
  {
   "cell_type": "code",
   "execution_count": 22,
   "metadata": {},
   "outputs": [
    {
     "ename": "NameError",
     "evalue": "name 'total' is not defined",
     "output_type": "error",
     "traceback": [
      "\u001b[0;31m---------------------------------------------------------------------------\u001b[0m",
      "\u001b[0;31mNameError\u001b[0m                                 Traceback (most recent call last)",
      "\u001b[0;32m<ipython-input-22-c0c943b0c604>\u001b[0m in \u001b[0;36m<module>\u001b[0;34m\u001b[0m\n\u001b[0;32m----> 1\u001b[0;31m \u001b[0mcoincidencias1\u001b[0m\u001b[0;34m=\u001b[0m\u001b[0mcoincidencias1\u001b[0m\u001b[0;34m/\u001b[0m\u001b[0mtotal\u001b[0m\u001b[0;34m\u001b[0m\u001b[0;34m\u001b[0m\u001b[0m\n\u001b[0m\u001b[1;32m      2\u001b[0m \u001b[0mcoincidencias2\u001b[0m\u001b[0;34m=\u001b[0m\u001b[0mcoincidencias2\u001b[0m\u001b[0;34m/\u001b[0m\u001b[0mtotal\u001b[0m\u001b[0;34m\u001b[0m\u001b[0;34m\u001b[0m\u001b[0m\n",
      "\u001b[0;31mNameError\u001b[0m: name 'total' is not defined"
     ]
    }
   ],
   "source": [
    "coincidencias1=coincidencias1/total\n",
    "coincidencias2=coincidencias2/total"
   ]
  },
  {
   "cell_type": "code",
   "execution_count": 58,
   "metadata": {},
   "outputs": [
    {
     "data": {
      "text/latex": [
       "$\\displaystyle \\sin^{2}{\\left(\\theta_{1} \\right)} \\cos^{2}{\\left(\\theta \\right)} \\cos^{2}{\\left(\\theta_{2} \\right)} + 2 \\sin{\\left(\\theta_{1} \\right)} \\sin{\\left(\\theta_{2} \\right)} \\cos{\\left(\\theta \\right)} \\cos{\\left(\\theta_{1} \\right)} \\cos{\\left(\\theta_{2} \\right)} \\cos{\\left(\\gamma_{1} - \\gamma_{2} \\right)} + \\sin^{2}{\\left(\\theta_{2} \\right)} \\cos^{2}{\\left(\\theta_{1} \\right)}$"
      ],
      "text/plain": [
       "sin(theta1)**2*cos(theta)**2*cos(theta2)**2 + 2*sin(theta1)*sin(theta2)*cos(theta)*cos(theta1)*cos(theta2)*cos(gamma1 - gamma2) + sin(theta2)**2*cos(theta1)**2"
      ]
     },
     "execution_count": 58,
     "metadata": {},
     "output_type": "execute_result"
    }
   ],
   "source": [
    "theta1,theta2=symbols('theta1 theta2',real=True)\n",
    "pabs,pd1,pd2,K=N_Interferomemer(2,1)\n",
    "pd1=simplify(pd1.subs({K[1]:theta1,K[2]:theta2,beta:cos(theta)}))\n",
    "f1 = lambdify([theta, theta1,theta2,gamma1, gamma2], pd1)\n",
    "pd1"
   ]
  },
  {
   "cell_type": "code",
   "execution_count": 61,
   "metadata": {},
   "outputs": [
    {
     "name": "stdout",
     "output_type": "stream",
     "text": [
      "Parameters [0.76818044 1.58834712 0.88430434 0.88425507]\n",
      "RMSE: 0.0074531884300869135\n",
      "R-squared: 0.3828977310426299\n"
     ]
    },
    {
     "data": {
      "image/png": "[encoded data removed]",
      "text/plain": [
       "<Figure size 800x600 with 1 Axes>"
      ]
     },
     "metadata": {
      "needs_background": "light"
     },
     "output_type": "display_data"
    }
   ],
   "source": [
    "import numpy, scipy, matplotlib\n",
    "import matplotlib.pyplot as plt\n",
    "from scipy.optimize import curve_fit\n",
    "from scipy.optimize import differential_evolution\n",
    "import warnings\n",
    "\n",
    "xData = valores\n",
    "yData = coincidencias1\n",
    "\n",
    "\n",
    "def func(x, theta1,theta2,gamma1, gamma2): # Sigmoid A With Offset from zunzun.com\n",
    "    return  f1(x,theta1,theta2,gamma1,gamma2)\n",
    "\n",
    "\n",
    "# function for genetic algorithm to minimize (sum of squared error)\n",
    "def sumOfSquaredError(parameterTuple):\n",
    "    warnings.filterwarnings(\"ignore\") # do not print warnings by genetic algorithm\n",
    "    val = func(xData, *parameterTuple)\n",
    "    return numpy.sum((yData - val) ** 2.0)\n",
    "\n",
    "\n",
    "def generate_Initial_Parameters():\n",
    "    # min and max used for bounds\n",
    "    maxX = max(xData)\n",
    "    minX = min(xData)\n",
    "    maxY = max(yData)\n",
    "    minY = min(yData)\n",
    "\n",
    "    parameterBounds = []\n",
    "    parameterBounds.append([minX, maxX]) # search bounds for a\n",
    "    parameterBounds.append([minX, maxX]) # search bounds for b\n",
    "    parameterBounds.append([minX, maxX]) # search bounds for b\n",
    "    parameterBounds.append([minX, maxX]) # search bounds for b\n",
    "\n",
    "    # \"seed\" the numpy random number generator for repeatable results\n",
    "    result = differential_evolution(sumOfSquaredError, parameterBounds, seed=3)\n",
    "    return result.x\n",
    "\n",
    "# generate initial parameter values\n",
    "geneticParameters = generate_Initial_Parameters()\n",
    "\n",
    "# curve fit the test data\n",
    "fittedParameters, pcov = curve_fit(func, xData, yData, geneticParameters)\n",
    "\n",
    "print('Parameters', fittedParameters)\n",
    "\n",
    "modelPredictions = func(xData, *fittedParameters) \n",
    "\n",
    "absError = modelPredictions - yData\n",
    "\n",
    "SE = numpy.square(absError) # squared errors\n",
    "MSE = numpy.mean(SE) # mean squared errors\n",
    "RMSE = numpy.sqrt(MSE) # Root Mean Squared Error, RMSE\n",
    "Rsquared = 1.0 - (numpy.var(absError) / numpy.var(yData))\n",
    "print('RMSE:', RMSE)\n",
    "print('R-squared:', Rsquared)\n",
    "\n",
    "\n",
    "\n",
    "##########################################################\n",
    "# graphics output section\n",
    "def ModelAndScatterPlot(graphWidth, graphHeight):\n",
    "    f = plt.figure(figsize=(graphWidth/100.0, graphHeight/100.0), dpi=100)\n",
    "    axes = f.add_subplot(111)\n",
    "\n",
    "    # first the raw data as a scatter plot\n",
    "    axes.plot(xData, yData,  'D')\n",
    "\n",
    "    # create data for the fitted equation plot\n",
    "    xModel = numpy.linspace(min(xData), max(xData))\n",
    "    yModel = func(xModel, *fittedParameters)\n",
    "\n",
    "    # now the model as a line plot \n",
    "    axes.plot(xModel, yModel)\n",
    "\n",
    "    axes.set_xlabel('X Data') # X axis data label\n",
    "    axes.set_ylabel('Y Data') # Y axis data label\n",
    "\n",
    "    plt.show()\n",
    "    plt.close('all') # clean up after using pyplot\n",
    "\n",
    "graphWidth = 800\n",
    "graphHeight = 600\n",
    "ModelAndScatterPlot(graphWidth, graphHeight)"
   ]
  },
  {
   "cell_type": "code",
   "execution_count": 44,
   "metadata": {},
   "outputs": [
    {
     "data": {
      "text/latex": [
       "$\\displaystyle \\sin^{2}{\\left(\\theta_{1} \\right)} \\sin^{2}{\\left(\\theta_{2} \\right)} \\cos^{2}{\\left(\\theta \\right)} - 2 \\sin{\\left(\\theta_{1} \\right)} \\sin{\\left(\\theta_{2} \\right)} \\cos{\\left(\\theta \\right)} \\cos{\\left(\\theta_{1} \\right)} \\cos{\\left(\\theta_{2} \\right)} \\cos{\\left(\\gamma_{1} - \\gamma_{2} \\right)} + \\cos^{2}{\\left(\\theta_{1} \\right)} \\cos^{2}{\\left(\\theta_{2} \\right)}$"
      ],
      "text/plain": [
       "sin(theta1)**2*sin(theta2)**2*cos(theta)**2 - 2*sin(theta1)*sin(theta2)*cos(theta)*cos(theta1)*cos(theta2)*cos(gamma1 - gamma2) + cos(theta1)**2*cos(theta2)**2"
      ]
     },
     "execution_count": 44,
     "metadata": {},
     "output_type": "execute_result"
    }
   ],
   "source": [
    "theta1,theta2=symbols('theta1 theta2',real=True)\n",
    "pabs,pd1,pd2,K=N_Interferomemer(2,1)\n",
    "pd2=simplify(pd2.subs({K[1]:theta1,K[2]:theta2,beta:cos(theta)}))\n",
    "f2 = lambdify([theta, theta1,theta2,gamma1, gamma2], pd2)\n",
    "pd2"
   ]
  },
  {
   "cell_type": "code",
   "execution_count": 53,
   "metadata": {},
   "outputs": [
    {
     "name": "stdout",
     "output_type": "stream",
     "text": [
      "Parameters [  0.76577823   0.6722034  144.65993818 145.96160826]\n",
      "RMSE: 0.009835739887514369\n",
      "R-squared: 0.8956878906694888\n"
     ]
    },
    {
     "data": {
      "image/png": "[encoded data removed]",
      "text/plain": [
       "<Figure size 800x600 with 1 Axes>"
      ]
     },
     "metadata": {
      "needs_background": "light"
     },
     "output_type": "display_data"
    }
   ],
   "source": [
    "import numpy, scipy, matplotlib\n",
    "import matplotlib.pyplot as plt\n",
    "from scipy.optimize import curve_fit\n",
    "from scipy.optimize import differential_evolution\n",
    "import warnings\n",
    "\n",
    "xData = valores\n",
    "yData = coincidencias2\n",
    "\n",
    "\n",
    "def func(x, theta1,theta2,gamma1, gamma2): # Sigmoid A With Offset from zunzun.com\n",
    "    return  f2(x,theta1,theta2,gamma1,gamma2)\n",
    "\n",
    "\n",
    "# function for genetic algorithm to minimize (sum of squared error)\n",
    "def sumOfSquaredError(parameterTuple):\n",
    "    warnings.filterwarnings(\"ignore\") # do not print warnings by genetic algorithm\n",
    "    val = func(xData, *parameterTuple)\n",
    "    return numpy.sum((yData - val) ** 2.0)\n",
    "\n",
    "\n",
    "def generate_Initial_Parameters():\n",
    "    # min and max used for bounds\n",
    "    maxX = max(xData)\n",
    "    minX = min(xData)\n",
    "    maxY = max(yData)\n",
    "    minY = min(yData)\n",
    "\n",
    "    parameterBounds = []\n",
    "    parameterBounds.append([minX, maxX]) # search bounds for a\n",
    "    parameterBounds.append([minX, maxX]) # search bounds for b\n",
    "    parameterBounds.append([minX, maxX]) # search bounds for b\n",
    "    parameterBounds.append([minX, maxX]) # search bounds for b\n",
    "\n",
    "    # \"seed\" the numpy random number generator for repeatable results\n",
    "    result = differential_evolution(sumOfSquaredError, parameterBounds, seed=3)\n",
    "    return result.x\n",
    "\n",
    "# generate initial parameter values\n",
    "geneticParameters = generate_Initial_Parameters()\n",
    "\n",
    "# curve fit the test data\n",
    "fittedParameters, pcov = curve_fit(func, xData, yData, geneticParameters)\n",
    "\n",
    "print('Parameters', fittedParameters)\n",
    "\n",
    "modelPredictions = func(xData, *fittedParameters) \n",
    "\n",
    "absError = modelPredictions - yData\n",
    "\n",
    "SE = numpy.square(absError) # squared errors\n",
    "MSE = numpy.mean(SE) # mean squared errors\n",
    "RMSE = numpy.sqrt(MSE) # Root Mean Squared Error, RMSE\n",
    "Rsquared = 1.0 - (numpy.var(absError) / numpy.var(yData))\n",
    "print('RMSE:', RMSE)\n",
    "print('R-squared:', Rsquared)\n",
    "\n",
    "\n",
    "\n",
    "##########################################################\n",
    "# graphics output section\n",
    "def ModelAndScatterPlot(graphWidth, graphHeight):\n",
    "    f = plt.figure(figsize=(graphWidth/100.0, graphHeight/100.0), dpi=100)\n",
    "    axes = f.add_subplot(111)\n",
    "\n",
    "    # first the raw data as a scatter plot\n",
    "    axes.plot(xData, yData,  'D')\n",
    "\n",
    "    # create data for the fitted equation plot\n",
    "    xModel = numpy.linspace(min(xData), max(xData))\n",
    "    yModel = func(xModel, *fittedParameters)\n",
    "\n",
    "    # now the model as a line plot \n",
    "    axes.plot(xModel, yModel)\n",
    "\n",
    "    axes.set_xlabel('X Data') # X axis data label\n",
    "    axes.set_ylabel('Y Data') # Y axis data label\n",
    "    plt.errorbar(,)\n",
    "    plt.show()\n",
    "    plt.close('all') # clean up after using pyplot\n",
    "\n",
    "graphWidth = 800\n",
    "graphHeight = 600\n",
    "ModelAndScatterPlot(graphWidth, graphHeight)"
   ]
  },
  {
   "cell_type": "markdown",
   "metadata": {},
   "source": [
    "# O alternativamente"
   ]
  },
  {
   "cell_type": "code",
   "execution_count": 40,
   "metadata": {},
   "outputs": [],
   "source": [
    "filenames = glob('/home/mcditoos/Desktop/DatosGerardo/12/gerardo*.DAT')\n",
    "\n",
    "filenames=natsort.natsorted(filenames)\n",
    "\n",
    "Coincidencias2=np.array([])\n",
    "for i in filenames:\n",
    "    C=pd.read_csv(i,sep='\\t')\n",
    "    C=C.drop([lista[0],lista[1],lista[2],lista[3],lista[5],lista[7]],axis=1)\n",
    "    promedio=C[lista[8]].mean()\n",
    "    Coincidencias2=np.append(Coincidencias2,promedio)\n",
    "coincidencias2=Coincidencias2[4:]"
   ]
  },
  {
   "cell_type": "code",
   "execution_count": 41,
   "metadata": {},
   "outputs": [],
   "source": [
    "filenames = glob('/home/mcditoos/Desktop/DatosGerardo/22/gerardo*.DAT')\n",
    "\n",
    "filenames=natsort.natsorted(filenames)\n",
    "\n",
    "Coincidencias1=np.array([])\n",
    "for i in filenames:\n",
    "    C=pd.read_csv(i,sep='\\t')\n",
    "    C=C.drop([lista[0],lista[1],lista[2],lista[3],lista[5],lista[7]],axis=1)\n",
    "    promedio=C[lista[8]].mean()\n",
    "    Coincidencias1=np.append(Coincidencias1,promedio)\n",
    "\n",
    "coincidencias1=Coincidencias1[2:]"
   ]
  },
  {
   "cell_type": "code",
   "execution_count": 42,
   "metadata": {},
   "outputs": [
    {
     "data": {
      "text/plain": [
       "array([], dtype=float64)"
      ]
     },
     "execution_count": 42,
     "metadata": {},
     "output_type": "execute_result"
    }
   ],
   "source": [
    "tata=coincidencias1+coincidencias2\n",
    "tata"
   ]
  },
  {
   "cell_type": "code",
   "execution_count": 43,
   "metadata": {},
   "outputs": [],
   "source": [
    "for i in range(len(tata)):\n",
    "    coincidencias1[i]=coincidencias1[i]/tata[i]\n",
    "    coincidencias2[i]=coincidencias2[i]/tata[i]"
   ]
  },
  {
   "cell_type": "code",
   "execution_count": 76,
   "metadata": {},
   "outputs": [
    {
     "data": {
      "text/plain": [
       "array([0.56199721, 0.57159373, 0.58330339, 0.59812597, 0.61126617,\n",
       "       0.62083119, 0.6302444 , 0.63025208, 0.62789901, 0.61911541])"
      ]
     },
     "execution_count": 76,
     "metadata": {},
     "output_type": "execute_result"
    }
   ],
   "source": [
    "coincidencias1"
   ]
  },
  {
   "cell_type": "code",
   "execution_count": 77,
   "metadata": {},
   "outputs": [
    {
     "data": {
      "text/plain": [
       "array([0.43800279, 0.42840627, 0.41669661, 0.40187403, 0.38873383,\n",
       "       0.37916881, 0.3697556 , 0.36974792, 0.37210099, 0.38088459])"
      ]
     },
     "execution_count": 77,
     "metadata": {},
     "output_type": "execute_result"
    }
   ],
   "source": [
    "coincidencias2"
   ]
  },
  {
   "cell_type": "code",
   "execution_count": 83,
   "metadata": {},
   "outputs": [
    {
     "name": "stdout",
     "output_type": "stream",
     "text": [
      "Parameters [-2.02498424e+02 -2.04501333e+02  1.49676847e-01]\n",
      "RMSE: 0.009541277582987425\n",
      "R-squared: 0.8422122329183647\n"
     ]
    },
    {
     "data": {
      "image/png": "[encoded data removed]",
      "text/plain": [
       "<Figure size 800x600 with 1 Axes>"
      ]
     },
     "metadata": {
      "needs_background": "light"
     },
     "output_type": "display_data"
    }
   ],
   "source": [
    "import numpy, scipy, matplotlib\n",
    "import matplotlib.pyplot as plt\n",
    "from scipy.optimize import curve_fit\n",
    "from scipy.optimize import differential_evolution\n",
    "import warnings\n",
    "\n",
    "xData = valores\n",
    "yData = coincidencias2\n",
    "\n",
    "\n",
    "def func(x, gamma1, gamma2,off): # Sigmoid A With Offset from zunzun.com\n",
    "    return  f(x,gamma1,gamma2)+off\n",
    "\n",
    "\n",
    "# function for genetic algorithm to minimize (sum of squared error)\n",
    "def sumOfSquaredError(parameterTuple):\n",
    "    warnings.filterwarnings(\"ignore\") # do not print warnings by genetic algorithm\n",
    "    val = func(xData, *parameterTuple)\n",
    "    return numpy.sum((yData - val) ** 2.0)\n",
    "\n",
    "\n",
    "def generate_Initial_Parameters():\n",
    "    # min and max used for bounds\n",
    "    maxX = max(xData)\n",
    "    minX = min(xData)\n",
    "    maxY = max(yData)\n",
    "    minY = min(yData)\n",
    "\n",
    "    parameterBounds = []\n",
    "    parameterBounds.append([minX, maxX]) # search bounds for a\n",
    "    parameterBounds.append([minX, maxX]) # search bounds for b\n",
    "    parameterBounds.append([minX, maxX]) # search bounds for b\n",
    "\n",
    "    # \"seed\" the numpy random number generator for repeatable results\n",
    "    result = differential_evolution(sumOfSquaredError, parameterBounds, seed=3)\n",
    "    return result.x\n",
    "\n",
    "# generate initial parameter values\n",
    "geneticParameters = generate_Initial_Parameters()\n",
    "\n",
    "# curve fit the test data\n",
    "fittedParameters, pcov = curve_fit(func, xData, yData, geneticParameters)\n",
    "\n",
    "print('Parameters', fittedParameters)\n",
    "\n",
    "modelPredictions = func(xData, *fittedParameters) \n",
    "\n",
    "absError = modelPredictions - yData\n",
    "\n",
    "SE = numpy.square(absError) # squared errors\n",
    "MSE = numpy.mean(SE) # mean squared errors\n",
    "RMSE = numpy.sqrt(MSE) # Root Mean Squared Error, RMSE\n",
    "Rsquared = 1.0 - (numpy.var(absError) / numpy.var(yData))\n",
    "print('RMSE:', RMSE)\n",
    "print('R-squared:', Rsquared)\n",
    "\n",
    "\n",
    "\n",
    "##########################################################\n",
    "# graphics output section\n",
    "def ModelAndScatterPlot(graphWidth, graphHeight):\n",
    "    f = plt.figure(figsize=(graphWidth/100.0, graphHeight/100.0), dpi=100)\n",
    "    axes = f.add_subplot(111)\n",
    "\n",
    "    # first the raw data as a scatter plot\n",
    "    axes.plot(xData, yData,  'D')\n",
    "\n",
    "    # create data for the fitted equation plot\n",
    "    xModel = numpy.linspace(min(xData), max(xData))\n",
    "    yModel = func(xModel, *fittedParameters)\n",
    "\n",
    "    # now the model as a line plot \n",
    "    axes.plot(xModel, yModel)\n",
    "\n",
    "    axes.set_xlabel('X Data') # X axis data label\n",
    "    axes.set_ylabel('Y Data') # Y axis data label\n",
    "\n",
    "    plt.show()\n",
    "    plt.close('all') # clean up after using pyplot\n",
    "\n",
    "graphWidth = 800\n",
    "graphHeight = 600\n",
    "ModelAndScatterPlot(graphWidth, graphHeight)"
   ]
  },
  {
   "cell_type": "code",
   "execution_count": 84,
   "metadata": {},
   "outputs": [
    {
     "name": "stdout",
     "output_type": "stream",
     "text": [
      "Parameters [1.14512489 0.27806263 0.43154044]\n",
      "RMSE: 0.03685656267315466\n",
      "R-squared: -1.3544524725846658\n"
     ]
    },
    {
     "data": {
      "image/png": "[encoded data removed]",
      "text/plain": [
       "<Figure size 800x600 with 1 Axes>"
      ]
     },
     "metadata": {
      "needs_background": "light"
     },
     "output_type": "display_data"
    }
   ],
   "source": [
    "import numpy, scipy, matplotlib\n",
    "import matplotlib.pyplot as plt\n",
    "from scipy.optimize import curve_fit\n",
    "from scipy.optimize import differential_evolution\n",
    "import warnings\n",
    "\n",
    "xData = valores\n",
    "yData = coincidencias1\n",
    "\n",
    "\n",
    "def func(x, gamma1, gamma2,off): # Sigmoid A With Offset from zunzun.com\n",
    "    return  f2(x,gamma1,gamma2)+off\n",
    "\n",
    "\n",
    "# function for genetic algorithm to minimize (sum of squared error)\n",
    "def sumOfSquaredError(parameterTuple):\n",
    "    warnings.filterwarnings(\"ignore\") # do not print warnings by genetic algorithm\n",
    "    val = func(xData, *parameterTuple)\n",
    "    return numpy.sum((yData - val) ** 2.0)\n",
    "\n",
    "\n",
    "def generate_Initial_Parameters():\n",
    "    # min and max used for bounds\n",
    "    maxX = max(xData)\n",
    "    minX = min(xData)\n",
    "    maxY = max(yData)\n",
    "    minY = min(yData)\n",
    "\n",
    "    parameterBounds = []\n",
    "    parameterBounds.append([minX, maxX]) # search bounds for a\n",
    "    parameterBounds.append([minX, maxX]) # search bounds for b\n",
    "    parameterBounds.append([minX, maxX]) # search bounds for b\n",
    "\n",
    "    # \"seed\" the numpy random number generator for repeatable results\n",
    "    result = differential_evolution(sumOfSquaredError, parameterBounds, seed=3)\n",
    "    return result.x\n",
    "\n",
    "# generate initial parameter values\n",
    "geneticParameters = generate_Initial_Parameters()\n",
    "\n",
    "# curve fit the test data\n",
    "fittedParameters, pcov = curve_fit(func, xData, yData, geneticParameters)\n",
    "\n",
    "print('Parameters', fittedParameters)\n",
    "\n",
    "modelPredictions = func(xData, *fittedParameters) \n",
    "\n",
    "absError = modelPredictions - yData\n",
    "\n",
    "SE = numpy.square(absError) # squared errors\n",
    "MSE = numpy.mean(SE) # mean squared errors\n",
    "RMSE = numpy.sqrt(MSE) # Root Mean Squared Error, RMSE\n",
    "Rsquared = 1.0 - (numpy.var(absError) / numpy.var(yData))\n",
    "print('RMSE:', RMSE)\n",
    "print('R-squared:', Rsquared)\n",
    "\n",
    "\n",
    "\n",
    "##########################################################\n",
    "# graphics output section\n",
    "def ModelAndScatterPlot(graphWidth, graphHeight):\n",
    "    f = plt.figure(figsize=(graphWidth/100.0, graphHeight/100.0), dpi=100)\n",
    "    axes = f.add_subplot(111)\n",
    "\n",
    "    # first the raw data as a scatter plot\n",
    "    axes.plot(xData, yData,  'D')\n",
    "\n",
    "    # create data for the fitted equation plot\n",
    "    xModel = numpy.linspace(min(xData), max(xData))\n",
    "    yModel = func(xModel, *fittedParameters)\n",
    "\n",
    "    # now the model as a line plot \n",
    "    axes.plot(xModel, yModel)\n",
    "\n",
    "    axes.set_xlabel('X Data') # X axis data label\n",
    "    axes.set_ylabel('Y Data') # Y axis data label\n",
    "\n",
    "    plt.show()\n",
    "    plt.close('all') # clean up after using pyplot\n",
    "\n",
    "graphWidth = 800\n",
    "graphHeight = 600\n",
    "ModelAndScatterPlot(graphWidth, graphHeight)"
   ]
  },
  {
   "cell_type": "code",
   "execution_count": 55,
   "metadata": {},
   "outputs": [
    {
     "data": {
      "text/latex": [
       "$\\displaystyle 0.519614898763597$"
      ],
      "text/plain": [
       "0.519614898763597"
      ]
     },
     "execution_count": 55,
     "metadata": {},
     "output_type": "execute_result"
    }
   ],
   "source": [
    "cos(0.76577823)**2"
   ]
  },
  {
   "cell_type": "code",
   "execution_count": 57,
   "metadata": {},
   "outputs": [
    {
     "data": {
      "text/latex": [
       "$\\displaystyle 0.612230324421004$"
      ],
      "text/plain": [
       "0.612230324421004"
      ]
     },
     "execution_count": 57,
     "metadata": {},
     "output_type": "execute_result"
    }
   ],
   "source": [
    "cos(0.6722034)**2"
   ]
  },
  {
   "cell_type": "code",
   "execution_count": null,
   "metadata": {},
   "outputs": [],
   "source": []
  }
 ],
 "metadata": {
  "kernelspec": {
   "display_name": "Python 3",
   "language": "python",
   "name": "python3"
  }
 },
 "nbformat": 4,
 "nbformat_minor": 4
}
