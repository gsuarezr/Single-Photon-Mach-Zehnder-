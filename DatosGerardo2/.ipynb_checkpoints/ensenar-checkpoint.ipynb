{
 "cells": [
  {
   "cell_type": "code",
   "execution_count": 1,
   "metadata": {},
   "outputs": [],
   "source": [
    "import pandas as pd"
   ]
  },
  {
   "cell_type": "code",
   "execution_count": 2,
   "metadata": {},
   "outputs": [
    {
     "data": {
      "text/plain": [
       "<matplotlib.collections.PathCollection at 0x7f3993156310>"
      ]
     },
     "execution_count": 2,
     "metadata": {},
     "output_type": "execute_result"
    },
    {
     "data": {
      "image/png": "[encoded data removed]",
      "text/plain": [
       "<Figure size 432x288 with 1 Axes>"
      ]
     },
     "metadata": {
      "needs_background": "light"
     },
     "output_type": "display_data"
    }
   ],
   "source": [
    "import natsort\n",
    "from glob import glob\n",
    "filenames = glob('/home/mcditoos/Desktop/DatosGerardo2/11/gerardo*.DAT')\n",
    "\n",
    "filenames=natsort.natsorted(filenames)\n",
    "filenames\n",
    "\n",
    "import numpy as np\n",
    "\n",
    "Coincidencias=np.array([])\n",
    "for i in filenames:\n",
    "    C=pd.read_csv(i,sep='\\t')\n",
    "    lista=C.columns\n",
    "    C=C.drop([lista[0],lista[1],lista[2],lista[3],lista[5],lista[7]],axis=1)\n",
    "    promedio=C[lista[8]].mean()\n",
    "    Coincidencias=np.append(Coincidencias,promedio)\n",
    "\n",
    "coincidencias11=Coincidencias[1:]/Coincidencias[0]\n",
    "\n",
    "import matplotlib.pyplot as plt\n",
    "\n",
    "plt.scatter(range(10),coincidencias11)"
   ]
  },
  {
   "cell_type": "code",
   "execution_count": 3,
   "metadata": {},
   "outputs": [
    {
     "data": {
      "text/plain": [
       "<matplotlib.collections.PathCollection at 0x7f39924eca90>"
      ]
     },
     "execution_count": 3,
     "metadata": {},
     "output_type": "execute_result"
    },
    {
     "data": {
      "image/png": "[encoded data removed]",
      "text/plain": [
       "<Figure size 432x288 with 1 Axes>"
      ]
     },
     "metadata": {
      "needs_background": "light"
     },
     "output_type": "display_data"
    }
   ],
   "source": [
    "import natsort\n",
    "from glob import glob\n",
    "filenames = glob('/home/mcditoos/Desktop/DatosGerardo2/12/gerardo*.DAT')\n",
    "\n",
    "filenames=natsort.natsorted(filenames)\n",
    "filenames\n",
    "\n",
    "Coincidencias=np.array([])\n",
    "for i in filenames:\n",
    "    C=pd.read_csv(i,sep='\\t')\n",
    "    C=C.drop([lista[0],lista[1],lista[2],lista[3],lista[5],lista[7]],axis=1)\n",
    "    promedio=C[lista[8]].mean()\n",
    "    Coincidencias=np.append(Coincidencias,promedio)\n",
    "\n",
    "coincidencias12=Coincidencias[4:]/Coincidencias[3]\n",
    "\n",
    "plt.scatter(range(10),coincidencias12)\n",
    "\n"
   ]
  },
  {
   "cell_type": "code",
   "execution_count": 4,
   "metadata": {},
   "outputs": [
    {
     "data": {
      "text/plain": [
       "<matplotlib.collections.PathCollection at 0x7f3992421e90>"
      ]
     },
     "execution_count": 4,
     "metadata": {},
     "output_type": "execute_result"
    },
    {
     "data": {
      "image/png": "[encoded data removed]",
      "text/plain": [
       "<Figure size 432x288 with 1 Axes>"
      ]
     },
     "metadata": {
      "needs_background": "light"
     },
     "output_type": "display_data"
    }
   ],
   "source": [
    "filenames = glob('/home/mcditoos/Desktop/DatosGerardo2/21/gerardo*.DAT')\n",
    "\n",
    "filenames=natsort.natsorted(filenames)\n",
    "\n",
    "Coincidencias=np.array([])\n",
    "for i in filenames:\n",
    "    C=pd.read_csv(i,sep='\\t')\n",
    "    C=C.drop([lista[0],lista[1],lista[2],lista[3],lista[5],lista[7]],axis=1)\n",
    "    promedio=C[lista[8]].mean()\n",
    "    Coincidencias=np.append(Coincidencias,promedio)\n",
    "\n",
    "coincidencias21=Coincidencias[1:]/Coincidencias[0]\n",
    "\n",
    "plt.scatter(range(10),coincidencias21)\n",
    "\n",
    "\n"
   ]
  },
  {
   "cell_type": "code",
   "execution_count": 5,
   "metadata": {},
   "outputs": [
    {
     "data": {
      "text/plain": [
       "<matplotlib.collections.PathCollection at 0x7f39923916d0>"
      ]
     },
     "execution_count": 5,
     "metadata": {},
     "output_type": "execute_result"
    },
    {
     "data": {
      "image/png": "[encoded data removed]",
      "text/plain": [
       "<Figure size 432x288 with 1 Axes>"
      ]
     },
     "metadata": {
      "needs_background": "light"
     },
     "output_type": "display_data"
    }
   ],
   "source": [
    "filenames = glob('/home/mcditoos/Desktop/DatosGerardo2/22/gerardo*.DAT')\n",
    "\n",
    "filenames=natsort.natsorted(filenames)\n",
    "\n",
    "Coincidencias=np.array([])\n",
    "for i in filenames:\n",
    "    C=pd.read_csv(i,sep='\\t')\n",
    "    C=C.drop([lista[0],lista[1],lista[2],lista[3],lista[5],lista[7]],axis=1)\n",
    "    promedio=C[lista[8]].mean()\n",
    "    Coincidencias=np.append(Coincidencias,promedio)\n",
    "\n",
    "coincidencias22=Coincidencias[2:]/Coincidencias[1]\n",
    "\n",
    "plt.scatter(range(10),coincidencias22)"
   ]
  },
  {
   "cell_type": "code",
   "execution_count": 6,
   "metadata": {},
   "outputs": [],
   "source": [
    "from sympy import *"
   ]
  },
  {
   "cell_type": "code",
   "execution_count": 7,
   "metadata": {},
   "outputs": [],
   "source": [
    "gamma1,gamma2,beta,theta=symbols('gamma1 gamma2 beta theta',real=True)\n",
    "def N_mach(N,k):\n",
    "    if k==1:\n",
    "        lista=list()\n",
    "        K=symarray('theta', N+1,real=True)\n",
    "        for i in range(1,N+1):\n",
    "            l=i\n",
    "            BS=Matrix([[cos(K[i]),I*sin(K[i])],[I*sin(K[i]),cos(K[i])]])\n",
    "            lista.append(BS)\n",
    "    else:\n",
    "        t=Symbol('theta1',real=True)\n",
    "        lista=Matrix([[cos(t/N),I*sin(t/N)],[I*sin(t/N),cos(t/N)]])\n",
    "    return lista\n",
    "def N_mach_zehnder(N,k):\n",
    "    K=N_mach(N,k)\n",
    "    jones1= Matrix([0,1])\n",
    "    jones0= Matrix([1,0])\n",
    "    M1=Matrix([[0,exp(I*gamma2)],[exp(I*gamma1),0]])\n",
    "    objeto=Matrix([[ 1,0],[0,beta]])\n",
    "    r=jones0\n",
    "    if k==1:\n",
    "        for i in range(0,N):\n",
    "            if i==N-1:\n",
    "                r=simplify(K[i]*r)\n",
    "            else:\n",
    "                r=simplify(M1*objeto*K[i]*r)\n",
    "    else:\n",
    "        r=K*(M1*objeto*K)**(N-1)*r\n",
    "    return r\n",
    "        \n",
    "def N_Interferomemer(N,k):\n",
    "    jones1= Matrix([0,1])\n",
    "    jones0= Matrix([1,0])\n",
    "    r=N_mach_zehnder(N,k)\n",
    "    p1=jones0.T*r\n",
    "    p1=p1[0]*conjugate(p1[0])\n",
    "    p1=re(p1)\n",
    "    p2=jones1.T*r\n",
    "    p2=p2[0]*conjugate(p2[0])\n",
    "    p2=re(p2)\n",
    "    pabs=1-p1-p2\n",
    "    K=symarray('theta', N+1,real=True)\n",
    "    return pabs,p1,p2,K"
   ]
  },
  {
   "cell_type": "code",
   "execution_count": 8,
   "metadata": {},
   "outputs": [],
   "source": [
    "pabs,pd1,pd2,K=N_Interferomemer(2,1)"
   ]
  },
  {
   "cell_type": "code",
   "execution_count": 9,
   "metadata": {},
   "outputs": [
    {
     "data": {
      "text/latex": [
       "$\\displaystyle \\frac{\\cos^{2}{\\left(\\theta \\right)}}{4} + \\frac{\\cos{\\left(\\theta \\right)} \\cos{\\left(\\gamma_{1} - \\gamma_{2} \\right)}}{2} + \\frac{1}{4}$"
      ],
      "text/plain": [
       "cos(theta)**2/4 + cos(theta)*cos(gamma1 - gamma2)/2 + 1/4"
      ]
     },
     "execution_count": 9,
     "metadata": {},
     "output_type": "execute_result"
    }
   ],
   "source": [
    "pd1=simplify(pd1.subs({K[1]:pi/4,K[2]:pi/4,beta:cos(theta)}))\n",
    "pd1"
   ]
  },
  {
   "cell_type": "code",
   "execution_count": 10,
   "metadata": {},
   "outputs": [
    {
     "data": {
      "text/plain": [
       "[0,\n",
       " 0.17453292519943295,\n",
       " 0.3490658503988659,\n",
       " 0.5235987755982988,\n",
       " 0.6981317007977318,\n",
       " 0.8726646259971648,\n",
       " 1.0471975511965976,\n",
       " 1.2217304763960306,\n",
       " 1.3962634015954636,\n",
       " 1.5707963267948966]"
      ]
     },
     "execution_count": 10,
     "metadata": {},
     "output_type": "execute_result"
    }
   ],
   "source": [
    "import numpy as np\n",
    "valores=[0,np.pi/18,np.pi/9,np.pi/6,40*np.pi/180,50*np.pi/180,np.pi/3,7*np.pi/18,8*np.pi/18,np.pi/2]\n",
    "#data=np.array([])\n",
    "#for i in valores:\n",
    "    #nuevo=pd1.subs({theta:i})\n",
    "    #data=np.append(data,nuevo)\n",
    "valores"
   ]
  },
  {
   "cell_type": "code",
   "execution_count": 11,
   "metadata": {},
   "outputs": [],
   "source": [
    "f = lambdify([theta, gamma1, gamma2], pd1)"
   ]
  },
  {
   "cell_type": "code",
   "execution_count": 12,
   "metadata": {},
   "outputs": [
    {
     "name": "stdout",
     "output_type": "stream",
     "text": [
      "Parameters [1.19934683 0.34482205]\n",
      "RMSE: 0.17656790723320745\n",
      "R-squared: -5.505517897039463\n"
     ]
    },
    {
     "data": {
      "image/png": "[encoded data removed]",
      "text/plain": [
       "<Figure size 800x600 with 1 Axes>"
      ]
     },
     "metadata": {
      "needs_background": "light"
     },
     "output_type": "display_data"
    }
   ],
   "source": [
    "import numpy, scipy, matplotlib\n",
    "import matplotlib.pyplot as plt\n",
    "from scipy.optimize import curve_fit\n",
    "from scipy.optimize import differential_evolution\n",
    "import warnings\n",
    "\n",
    "xData = valores\n",
    "yData = coincidencias12\n",
    "\n",
    "\n",
    "def func(x, gamma1, gamma2): # Sigmoid A With Offset from zunzun.com\n",
    "    return  f(x,gamma1,gamma2)\n",
    "\n",
    "\n",
    "# function for genetic algorithm to minimize (sum of squared error)\n",
    "def sumOfSquaredError(parameterTuple):\n",
    "    warnings.filterwarnings(\"ignore\") # do not print warnings by genetic algorithm\n",
    "    val = func(xData, *parameterTuple)\n",
    "    return numpy.sum((yData - val) ** 2.0)\n",
    "\n",
    "\n",
    "def generate_Initial_Parameters():\n",
    "    # min and max used for bounds\n",
    "    maxX = max(xData)\n",
    "    minX = min(xData)\n",
    "    maxY = max(yData)\n",
    "    minY = min(yData)\n",
    "\n",
    "    parameterBounds = []\n",
    "    parameterBounds.append([minX, maxX]) # search bounds for a\n",
    "    parameterBounds.append([minX, maxX]) # search bounds for b\n",
    "\n",
    "    # \"seed\" the numpy random number generator for repeatable results\n",
    "    result = differential_evolution(sumOfSquaredError, parameterBounds, seed=3)\n",
    "    return result.x\n",
    "\n",
    "# generate initial parameter values\n",
    "geneticParameters = generate_Initial_Parameters()\n",
    "\n",
    "# curve fit the test data\n",
    "fittedParameters, pcov = curve_fit(func, xData, yData, geneticParameters)\n",
    "\n",
    "print('Parameters', fittedParameters)\n",
    "\n",
    "modelPredictions = func(xData, *fittedParameters) \n",
    "\n",
    "absError = modelPredictions - yData\n",
    "\n",
    "SE = numpy.square(absError) # squared errors\n",
    "MSE = numpy.mean(SE) # mean squared errors\n",
    "RMSE = numpy.sqrt(MSE) # Root Mean Squared Error, RMSE\n",
    "Rsquared = 1.0 - (numpy.var(absError) / numpy.var(yData))\n",
    "print('RMSE:', RMSE)\n",
    "print('R-squared:', Rsquared)\n",
    "\n",
    "\n",
    "\n",
    "##########################################################\n",
    "# graphics output section\n",
    "def ModelAndScatterPlot(graphWidth, graphHeight):\n",
    "    f = plt.figure(figsize=(graphWidth/100.0, graphHeight/100.0), dpi=100)\n",
    "    axes = f.add_subplot(111)\n",
    "\n",
    "    # first the raw data as a scatter plot\n",
    "    axes.plot(xData, yData,  'D')\n",
    "\n",
    "    # create data for the fitted equation plot\n",
    "    xModel = numpy.linspace(min(xData), max(xData))\n",
    "    yModel = func(xModel, *fittedParameters)\n",
    "\n",
    "    # now the model as a line plot \n",
    "    axes.plot(xModel, yModel)\n",
    "\n",
    "    axes.set_xlabel('X Data') # X axis data label\n",
    "    axes.set_ylabel('Y Data') # Y axis data label\n",
    "\n",
    "    plt.show()\n",
    "    plt.close('all') # clean up after using pyplot\n",
    "\n",
    "graphWidth = 800\n",
    "graphHeight = 600\n",
    "ModelAndScatterPlot(graphWidth, graphHeight)"
   ]
  },
  {
   "cell_type": "code",
   "execution_count": 13,
   "metadata": {},
   "outputs": [
    {
     "data": {
      "text/latex": [
       "$\\displaystyle \\frac{\\cos^{2}{\\left(\\theta \\right)}}{4} - \\frac{\\cos{\\left(\\theta \\right)} \\cos{\\left(\\gamma_{1} - \\gamma_{2} \\right)}}{2} + \\frac{1}{4}$"
      ],
      "text/plain": [
       "cos(theta)**2/4 - cos(theta)*cos(gamma1 - gamma2)/2 + 1/4"
      ]
     },
     "execution_count": 13,
     "metadata": {},
     "output_type": "execute_result"
    }
   ],
   "source": [
    "pd2=simplify(pd2.subs({K[1]:pi/4,K[2]:pi/4,beta:cos(theta)}))\n",
    "f2 = lambdify([theta, gamma1, gamma2], pd2)\n",
    "pd2"
   ]
  },
  {
   "cell_type": "code",
   "execution_count": 14,
   "metadata": {},
   "outputs": [
    {
     "name": "stdout",
     "output_type": "stream",
     "text": [
      "Parameters [113.4282665  110.28667385]\n",
      "RMSE: 0.41537023229811515\n",
      "R-squared: -210.10298916662413\n"
     ]
    },
    {
     "data": {
      "image/png": "[encoded data removed]",
      "text/plain": [
       "<Figure size 800x600 with 1 Axes>"
      ]
     },
     "metadata": {
      "needs_background": "light"
     },
     "output_type": "display_data"
    }
   ],
   "source": [
    "import numpy, scipy, matplotlib\n",
    "import matplotlib.pyplot as plt\n",
    "from scipy.optimize import curve_fit\n",
    "from scipy.optimize import differential_evolution\n",
    "import warnings\n",
    "\n",
    "xData = valores\n",
    "yData = coincidencias22\n",
    "\n",
    "\n",
    "def func(x, gamma1, gamma2): # Sigmoid A With Offset from zunzun.com\n",
    "    return  f2(x,gamma1,gamma2)\n",
    "\n",
    "\n",
    "# function for genetic algorithm to minimize (sum of squared error)\n",
    "def sumOfSquaredError(parameterTuple):\n",
    "    warnings.filterwarnings(\"ignore\") # do not print warnings by genetic algorithm\n",
    "    val = func(xData, *parameterTuple)\n",
    "    return numpy.sum((yData - val) ** 2.0)\n",
    "\n",
    "\n",
    "def generate_Initial_Parameters():\n",
    "    # min and max used for bounds\n",
    "    maxX = max(xData)\n",
    "    minX = min(xData)\n",
    "    maxY = max(yData)\n",
    "    minY = min(yData)\n",
    "\n",
    "    parameterBounds = []\n",
    "    parameterBounds.append([minX, maxX]) # search bounds for a\n",
    "    parameterBounds.append([minX, maxX]) # search bounds for b\n",
    "\n",
    "    # \"seed\" the numpy random number generator for repeatable results\n",
    "    result = differential_evolution(sumOfSquaredError, parameterBounds, seed=3)\n",
    "    return result.x\n",
    "\n",
    "# generate initial parameter values\n",
    "geneticParameters = generate_Initial_Parameters()\n",
    "\n",
    "# curve fit the test data\n",
    "fittedParameters, pcov = curve_fit(func, xData, yData, geneticParameters)\n",
    "\n",
    "print('Parameters', fittedParameters)\n",
    "\n",
    "modelPredictions = func(xData, *fittedParameters) \n",
    "\n",
    "absError = modelPredictions - yData\n",
    "\n",
    "SE = numpy.square(absError) # squared errors\n",
    "MSE = numpy.mean(SE) # mean squared errors\n",
    "RMSE = numpy.sqrt(MSE) # Root Mean Squared Error, RMSE\n",
    "Rsquared = 1.0 - (numpy.var(absError) / numpy.var(yData))\n",
    "print('RMSE:', RMSE)\n",
    "print('R-squared:', Rsquared)\n",
    "\n",
    "\n",
    "\n",
    "##########################################################\n",
    "# graphics output section\n",
    "def ModelAndScatterPlot(graphWidth, graphHeight):\n",
    "    f = plt.figure(figsize=(graphWidth/100.0, graphHeight/100.0), dpi=100)\n",
    "    axes = f.add_subplot(111)\n",
    "\n",
    "    # first the raw data as a scatter plot\n",
    "    axes.plot(xData, yData,  'D')\n",
    "\n",
    "    # create data for the fitted equation plot\n",
    "    xModel = numpy.linspace(min(xData), max(xData))\n",
    "    yModel = func(xModel, *fittedParameters)\n",
    "\n",
    "    # now the model as a line plot \n",
    "    axes.plot(xModel, yModel)\n",
    "\n",
    "    axes.set_xlabel('X Data') # X axis data label\n",
    "    axes.set_ylabel('Y Data') # Y axis data label\n",
    "\n",
    "    plt.show()\n",
    "    plt.close('all') # clean up after using pyplot\n",
    "\n",
    "graphWidth = 800\n",
    "graphHeight = 600\n",
    "ModelAndScatterPlot(graphWidth, graphHeight)"
   ]
  },
  {
   "cell_type": "code",
   "execution_count": 15,
   "metadata": {},
   "outputs": [],
   "source": [
    "filenames = glob('/home/mcditoos/Desktop/DatosGerardo2/22/gerardo*.DAT')\n",
    "\n",
    "filenames=natsort.natsorted(filenames)\n",
    "\n",
    "Coincidencias1=np.array([])\n",
    "for i in filenames:\n",
    "    C=pd.read_csv(i,sep='\\t')\n",
    "    C=C.drop([lista[0],lista[1],lista[2],lista[3],lista[5],lista[7]],axis=1)\n",
    "    promedio=C[lista[8]].mean()\n",
    "    Coincidencias1=np.append(Coincidencias1,promedio)\n",
    "\n",
    "coincidencias1=Coincidencias1[2:]"
   ]
  },
  {
   "cell_type": "code",
   "execution_count": 16,
   "metadata": {},
   "outputs": [],
   "source": [
    "filenames = glob('/home/mcditoos/Desktop/DatosGerardo2/12/gerardo*.DAT')\n",
    "\n",
    "filenames=natsort.natsorted(filenames)\n",
    "\n",
    "Coincidencias2=np.array([])\n",
    "for i in filenames:\n",
    "    C=pd.read_csv(i,sep='\\t')\n",
    "    C=C.drop([lista[0],lista[1],lista[2],lista[3],lista[5],lista[7]],axis=1)\n",
    "    promedio=C[lista[8]].mean()\n",
    "    Coincidencias2=np.append(Coincidencias2,promedio)\n",
    "coincidencias2=Coincidencias2[4:]"
   ]
  },
  {
   "cell_type": "code",
   "execution_count": 17,
   "metadata": {},
   "outputs": [
    {
     "data": {
      "text/plain": [
       "6262.23"
      ]
     },
     "execution_count": 17,
     "metadata": {},
     "output_type": "execute_result"
    }
   ],
   "source": [
    "total=Coincidencias1[1]+Coincidencias2[0]\n",
    "total"
   ]
  },
  {
   "cell_type": "code",
   "execution_count": 18,
   "metadata": {},
   "outputs": [],
   "source": [
    "coincidencias1=coincidencias1/total\n",
    "coincidencias2=coincidencias2/total"
   ]
  },
  {
   "cell_type": "code",
   "execution_count": 19,
   "metadata": {},
   "outputs": [
    {
     "name": "stdout",
     "output_type": "stream",
     "text": [
      "Parameters [49.1508532  48.1838935   0.30767676]\n",
      "RMSE: 0.027804485963848474\n",
      "R-squared: -7.588210525371615\n"
     ]
    },
    {
     "data": {
      "image/png": "[encoded data removed]",
      "text/plain": [
       "<Figure size 800x600 with 1 Axes>"
      ]
     },
     "metadata": {
      "needs_background": "light"
     },
     "output_type": "display_data"
    }
   ],
   "source": [
    "import numpy, scipy, matplotlib\n",
    "import matplotlib.pyplot as plt\n",
    "from scipy.optimize import curve_fit\n",
    "from scipy.optimize import differential_evolution\n",
    "import warnings\n",
    "\n",
    "xData = valores\n",
    "yData = coincidencias1\n",
    "\n",
    "\n",
    "def func(x, gamma1, gamma2,off): # Sigmoid A With Offset from zunzun.com\n",
    "    return  f2(x,gamma1,gamma2)+off\n",
    "\n",
    "\n",
    "# function for genetic algorithm to minimize (sum of squared error)\n",
    "def sumOfSquaredError(parameterTuple):\n",
    "    warnings.filterwarnings(\"ignore\") # do not print warnings by genetic algorithm\n",
    "    val = func(xData, *parameterTuple)\n",
    "    return numpy.sum((yData - val) ** 2.0)\n",
    "\n",
    "\n",
    "def generate_Initial_Parameters():\n",
    "    # min and max used for bounds\n",
    "    maxX = max(xData)\n",
    "    minX = min(xData)\n",
    "    maxY = max(yData)\n",
    "    minY = min(yData)\n",
    "\n",
    "    parameterBounds = []\n",
    "    parameterBounds.append([minX, maxX]) # search bounds for a\n",
    "    parameterBounds.append([minX, maxX]) # search bounds for b\n",
    "    parameterBounds.append([minX, maxX]) # search bounds for b\n",
    "\n",
    "    # \"seed\" the numpy random number generator for repeatable results\n",
    "    result = differential_evolution(sumOfSquaredError, parameterBounds, seed=3)\n",
    "    return result.x\n",
    "\n",
    "# generate initial parameter values\n",
    "geneticParameters = generate_Initial_Parameters()\n",
    "\n",
    "# curve fit the test data\n",
    "fittedParameters, pcov = curve_fit(func, xData, yData, geneticParameters)\n",
    "\n",
    "print('Parameters', fittedParameters)\n",
    "\n",
    "modelPredictions = func(xData, *fittedParameters) \n",
    "\n",
    "absError = modelPredictions - yData\n",
    "\n",
    "SE = numpy.square(absError) # squared errors\n",
    "MSE = numpy.mean(SE) # mean squared errors\n",
    "RMSE = numpy.sqrt(MSE) # Root Mean Squared Error, RMSE\n",
    "Rsquared = 1.0 - (numpy.var(absError) / numpy.var(yData))\n",
    "print('RMSE:', RMSE)\n",
    "print('R-squared:', Rsquared)\n",
    "\n",
    "\n",
    "\n",
    "##########################################################\n",
    "# graphics output section\n",
    "def ModelAndScatterPlot(graphWidth, graphHeight):\n",
    "    f = plt.figure(figsize=(graphWidth/100.0, graphHeight/100.0), dpi=100)\n",
    "    axes = f.add_subplot(111)\n",
    "\n",
    "    # first the raw data as a scatter plot\n",
    "    axes.plot(xData, yData,  'D')\n",
    "\n",
    "    # create data for the fitted equation plot\n",
    "    xModel = numpy.linspace(min(xData), max(xData))\n",
    "    yModel = func(xModel, *fittedParameters)\n",
    "\n",
    "    # now the model as a line plot \n",
    "    axes.plot(xModel, yModel)\n",
    "\n",
    "    axes.set_xlabel('X Data') # X axis data label\n",
    "    axes.set_ylabel('Y Data') # Y axis data label\n",
    "\n",
    "    plt.show()\n",
    "    plt.close('all') # clean up after using pyplot\n",
    "\n",
    "graphWidth = 800\n",
    "graphHeight = 600\n",
    "ModelAndScatterPlot(graphWidth, graphHeight)"
   ]
  },
  {
   "cell_type": "code",
   "execution_count": 20,
   "metadata": {},
   "outputs": [
    {
     "name": "stdout",
     "output_type": "stream",
     "text": [
      "Parameters [177.18793379 175.41613076]\n",
      "RMSE: 0.039130787212351706\n",
      "R-squared: -0.30740847599420773\n"
     ]
    },
    {
     "data": {
      "image/png": "[encoded data removed]",
      "text/plain": [
       "<Figure size 800x600 with 1 Axes>"
      ]
     },
     "metadata": {
      "needs_background": "light"
     },
     "output_type": "display_data"
    }
   ],
   "source": [
    "import numpy, scipy, matplotlib\n",
    "import matplotlib.pyplot as plt\n",
    "from scipy.optimize import curve_fit\n",
    "from scipy.optimize import differential_evolution\n",
    "import warnings\n",
    "\n",
    "xData = valores\n",
    "yData = coincidencias2\n",
    "\n",
    "\n",
    "def func(x, gamma1, gamma2): # Sigmoid A With Offset from zunzun.com\n",
    "    return  f(x,gamma1,gamma2)\n",
    "\n",
    "\n",
    "# function for genetic algorithm to minimize (sum of squared error)\n",
    "def sumOfSquaredError(parameterTuple):\n",
    "    warnings.filterwarnings(\"ignore\") # do not print warnings by genetic algorithm\n",
    "    val = func(xData, *parameterTuple)\n",
    "    return numpy.sum((yData - val) ** 2.0)\n",
    "\n",
    "\n",
    "def generate_Initial_Parameters():\n",
    "    # min and max used for bounds\n",
    "    maxX = max(xData)\n",
    "    minX = min(xData)\n",
    "    maxY = max(yData)\n",
    "    minY = min(yData)\n",
    "\n",
    "    parameterBounds = []\n",
    "    parameterBounds.append([minX, maxX]) # search bounds for a\n",
    "    parameterBounds.append([minX, maxX]) # search bounds for b\n",
    "\n",
    "    # \"seed\" the numpy random number generator for repeatable results\n",
    "    result = differential_evolution(sumOfSquaredError, parameterBounds, seed=3)\n",
    "    return result.x\n",
    "\n",
    "# generate initial parameter values\n",
    "geneticParameters = generate_Initial_Parameters()\n",
    "\n",
    "# curve fit the test data\n",
    "fittedParameters, pcov = curve_fit(func, xData, yData, geneticParameters)\n",
    "\n",
    "print('Parameters', fittedParameters)\n",
    "\n",
    "modelPredictions = func(xData, *fittedParameters) \n",
    "\n",
    "absError = modelPredictions - yData\n",
    "\n",
    "SE = numpy.square(absError) # squared errors\n",
    "MSE = numpy.mean(SE) # mean squared errors\n",
    "RMSE = numpy.sqrt(MSE) # Root Mean Squared Error, RMSE\n",
    "Rsquared = 1.0 - (numpy.var(absError) / numpy.var(yData))\n",
    "print('RMSE:', RMSE)\n",
    "print('R-squared:', Rsquared)\n",
    "\n",
    "\n",
    "\n",
    "##########################################################\n",
    "# graphics output section\n",
    "def ModelAndScatterPlot(graphWidth, graphHeight):\n",
    "    f = plt.figure(figsize=(graphWidth/100.0, graphHeight/100.0), dpi=100)\n",
    "    axes = f.add_subplot(111)\n",
    "\n",
    "    # first the raw data as a scatter plot\n",
    "    axes.plot(xData, yData,  'D')\n",
    "\n",
    "    # create data for the fitted equation plot\n",
    "    xModel = numpy.linspace(min(xData), max(xData))\n",
    "    yModel = func(xModel, *fittedParameters)\n",
    "\n",
    "    # now the model as a line plot \n",
    "    axes.plot(xModel, yModel)\n",
    "\n",
    "    axes.set_xlabel('X Data') # X axis data label\n",
    "    axes.set_ylabel('Y Data') # Y axis data label\n",
    "\n",
    "    plt.show()\n",
    "    plt.close('all') # clean up after using pyplot\n",
    "\n",
    "graphWidth = 800\n",
    "graphHeight = 600\n",
    "ModelAndScatterPlot(graphWidth, graphHeight)"
   ]
  },
  {
   "cell_type": "markdown",
   "metadata": {},
   "source": [
    "# O alternativamente"
   ]
  },
  {
   "cell_type": "code",
   "execution_count": 33,
   "metadata": {},
   "outputs": [],
   "source": [
    "filenames = glob('/home/mcditoos/Desktop/DatosGerardo2/11/gerardo*.DAT')\n",
    "\n",
    "filenames=natsort.natsorted(filenames)\n",
    "\n",
    "Coincidencias2=np.array([])\n",
    "for i in filenames:\n",
    "    C=pd.read_csv(i,sep='\\t')\n",
    "    C=C.drop([lista[0],lista[1],lista[2],lista[3],lista[5],lista[7]],axis=1)\n",
    "    promedio=C[lista[8]].mean()\n",
    "    Coincidencias2=np.append(Coincidencias2,promedio)\n",
    "coincidencias2=Coincidencias2[1:]"
   ]
  },
  {
   "cell_type": "code",
   "execution_count": 34,
   "metadata": {},
   "outputs": [],
   "source": [
    "filenames = glob('/home/mcditoos/Desktop/DatosGerardo2/21/gerardo*.DAT')\n",
    "\n",
    "filenames=natsort.natsorted(filenames)\n",
    "\n",
    "Coincidencias1=np.array([])\n",
    "for i in filenames:\n",
    "    C=pd.read_csv(i,sep='\\t')\n",
    "    C=C.drop([lista[0],lista[1],lista[2],lista[3],lista[5],lista[7]],axis=1)\n",
    "    promedio=C[lista[8]].mean()\n",
    "    Coincidencias1=np.append(Coincidencias1,promedio)\n",
    "\n",
    "coincidencias1=Coincidencias1[1:]"
   ]
  },
  {
   "cell_type": "code",
   "execution_count": 35,
   "metadata": {},
   "outputs": [
    {
     "data": {
      "text/plain": [
       "array([5098.98, 5089.48, 5006.44, 4907.4 , 4773.12, 4617.25, 4500.14,\n",
       "       4430.58, 4405.69, 4447.95])"
      ]
     },
     "execution_count": 35,
     "metadata": {},
     "output_type": "execute_result"
    }
   ],
   "source": [
    "tata=coincidencias1+coincidencias2\n",
    "tata"
   ]
  },
  {
   "cell_type": "code",
   "execution_count": 36,
   "metadata": {},
   "outputs": [],
   "source": [
    "for i in range(len(tata)):\n",
    "    coincidencias1[i]=coincidencias1[i]/tata[i]\n",
    "    coincidencias2[i]=coincidencias2[i]/tata[i]"
   ]
  },
  {
   "cell_type": "code",
   "execution_count": 37,
   "metadata": {},
   "outputs": [
    {
     "data": {
      "text/plain": [
       "array([0.39224708, 0.37546075, 0.35925728, 0.34285569, 0.3335596 ,\n",
       "       0.32807624, 0.32588986, 0.32574742, 0.32614415, 0.32451129])"
      ]
     },
     "execution_count": 37,
     "metadata": {},
     "output_type": "execute_result"
    }
   ],
   "source": [
    "coincidencias1"
   ]
  },
  {
   "cell_type": "code",
   "execution_count": 38,
   "metadata": {},
   "outputs": [
    {
     "data": {
      "text/plain": [
       "array([0.60775292, 0.62453925, 0.64074272, 0.65714431, 0.6664404 ,\n",
       "       0.67192376, 0.67411014, 0.67425258, 0.67385585, 0.67548871])"
      ]
     },
     "execution_count": 38,
     "metadata": {},
     "output_type": "execute_result"
    }
   ],
   "source": [
    "coincidencias2"
   ]
  },
  {
   "cell_type": "code",
   "execution_count": 39,
   "metadata": {},
   "outputs": [],
   "source": [
    "theta1,theta2=symbols('theta1 theta2',real=True)\n",
    "pabs,pd1,pd2,K=N_Interferomemer(2,1)\n",
    "pd2=simplify(pd2.subs({K[1]:theta1,K[2]:theta2,beta:cos(theta)}))\n",
    "f2 = lambdify([theta, theta1,theta2,gamma1, gamma2], pd2)\n",
    "pd1=simplify(pd1.subs({K[1]:theta1,K[2]:theta2,beta:cos(theta)}))\n",
    "f1 = lambdify([theta, theta1,theta2,gamma1, gamma2], pd1)"
   ]
  },
  {
   "cell_type": "code",
   "execution_count": 40,
   "metadata": {},
   "outputs": [
    {
     "name": "stdout",
     "output_type": "stream",
     "text": [
      "Parameters [ 0.49927373  0.7157653   1.33752519 -0.44264815]\n",
      "RMSE: 0.008427308108464508\n",
      "R-squared: 0.8652403926466461\n"
     ]
    },
    {
     "data": {
      "image/png": "[encoded data removed]",
      "text/plain": [
       "<Figure size 800x600 with 1 Axes>"
      ]
     },
     "metadata": {
      "needs_background": "light"
     },
     "output_type": "display_data"
    }
   ],
   "source": [
    "import numpy, scipy, matplotlib\n",
    "import matplotlib.pyplot as plt\n",
    "from scipy.optimize import curve_fit\n",
    "from scipy.optimize import differential_evolution\n",
    "import warnings\n",
    "\n",
    "xData = valores\n",
    "yData = coincidencias1\n",
    "\n",
    "\n",
    "def func(x, theta1,theta2,gamma1, gamma2): # Sigmoid A With Offset from zunzun.com\n",
    "    return  f1(x,theta1,theta2,gamma1,gamma2)\n",
    "\n",
    "\n",
    "# function for genetic algorithm to minimize (sum of squared error)\n",
    "def sumOfSquaredError(parameterTuple):\n",
    "    warnings.filterwarnings(\"ignore\") # do not print warnings by genetic algorithm\n",
    "    val = func(xData, *parameterTuple)\n",
    "    return numpy.sum((yData - val) ** 2.0)\n",
    "\n",
    "\n",
    "def generate_Initial_Parameters():\n",
    "    # min and max used for bounds\n",
    "    maxX = max(xData)\n",
    "    minX = min(xData)\n",
    "    maxY = max(yData)\n",
    "    minY = min(yData)\n",
    "\n",
    "    parameterBounds = []\n",
    "    parameterBounds.append([minX, maxX]) # search bounds for a\n",
    "    parameterBounds.append([minX, maxX]) # search bounds for b\n",
    "    parameterBounds.append([minX, maxX]) # search bounds for b\n",
    "    parameterBounds.append([minX, maxX]) # search bounds for b\n",
    "\n",
    "    # \"seed\" the numpy random number generator for repeatable results\n",
    "    result = differential_evolution(sumOfSquaredError, parameterBounds, seed=3)\n",
    "    return result.x\n",
    "\n",
    "# generate initial parameter values\n",
    "geneticParameters = generate_Initial_Parameters()\n",
    "\n",
    "# curve fit the test data\n",
    "fittedParameters, pcov = curve_fit(func, xData, yData, geneticParameters)\n",
    "\n",
    "print('Parameters', fittedParameters)\n",
    "\n",
    "modelPredictions = func(xData, *fittedParameters) \n",
    "\n",
    "absError = modelPredictions - yData\n",
    "\n",
    "SE = numpy.square(absError) # squared errors\n",
    "MSE = numpy.mean(SE) # mean squared errors\n",
    "RMSE = numpy.sqrt(MSE) # Root Mean Squared Error, RMSE\n",
    "Rsquared = 1.0 - (numpy.var(absError) / numpy.var(yData))\n",
    "print('RMSE:', RMSE)\n",
    "print('R-squared:', Rsquared)\n",
    "\n",
    "\n",
    "\n",
    "##########################################################\n",
    "# graphics output section\n",
    "def ModelAndScatterPlot(graphWidth, graphHeight):\n",
    "    f = plt.figure(figsize=(graphWidth/100.0, graphHeight/100.0), dpi=100)\n",
    "    axes = f.add_subplot(111)\n",
    "\n",
    "    # first the raw data as a scatter plot\n",
    "    axes.plot(xData, yData,  'D')\n",
    "\n",
    "    # create data for the fitted equation plot\n",
    "    xModel = numpy.linspace(min(xData), max(xData))\n",
    "    yModel = func(xModel, *fittedParameters)\n",
    "\n",
    "    # now the model as a line plot \n",
    "    axes.plot(xModel, yModel)\n",
    "\n",
    "    axes.set_ylabel(r'$P$',size=25) # X axis data label\n",
    "    axes.set_xlabel(r'$\\theta$',size=25) # Y axis data label\n",
    "    plt.ylim(min(yModel)-(min(yModel)/10),max(yModel)+(max(yModel)/10))\n",
    "    plt.errorbar(xData, yData, RMSE,0.02, marker='.',mec='b',mfc='black',color='black',ls='none')\n",
    "    plt.yticks(size=13)\n",
    "    plt.xticks([0,np.pi/18,np.pi/9,np.pi/6,40*np.pi/180,50*np.pi/180,np.pi/3,7*np.pi/18,8*np.pi/18,np.pi/2],[r'$0$',r'$\\frac{\\pi}{18}$',r'$\\frac{\\pi}{9}$',r'$\\frac{\\pi}{6}$',\n",
    "                                                                                                             r'$\\frac{\\pi}{18}$',r'$\\frac{2\\pi}{9}$',r'$\\frac{5\\pi}{18}$',r'$\\frac{\\pi}{3}$',\n",
    "                                                                                                            r'$\\frac{7\\pi}{18}$',r'$\\frac{\\pi}{2}$',],size=13)\n",
    "    plt.show()\n",
    "    plt.close('all') # clean up after using pyplot\n",
    "\n",
    "graphWidth = 800\n",
    "graphHeight = 600\n",
    "ModelAndScatterPlot(graphWidth, graphHeight)"
   ]
  },
  {
   "cell_type": "code",
   "execution_count": 41,
   "metadata": {},
   "outputs": [
    {
     "name": "stdout",
     "output_type": "stream",
     "text": [
      "Parameters [0.05786358 0.58880334 0.71605724 0.71595017]\n",
      "RMSE: 0.014647252961866048\n",
      "R-squared: 0.5929063316077661\n"
     ]
    },
    {
     "data": {
      "image/png": "[encoded data removed]",
      "text/plain": [
       "<Figure size 800x600 with 1 Axes>"
      ]
     },
     "metadata": {
      "needs_background": "light"
     },
     "output_type": "display_data"
    }
   ],
   "source": [
    "import numpy, scipy, matplotlib\n",
    "import matplotlib.pyplot as plt\n",
    "from scipy.optimize import curve_fit\n",
    "from scipy.optimize import differential_evolution\n",
    "import warnings\n",
    "\n",
    "xData = valores\n",
    "yData = coincidencias2\n",
    "\n",
    "\n",
    "def func(x, theta1,theta2,gamma1, gamma2): # Sigmoid A With Offset from zunzun.com\n",
    "    return  f2(x,theta1,theta2,gamma1,gamma2)\n",
    "\n",
    "\n",
    "# function for genetic algorithm to minimize (sum of squared error)\n",
    "def sumOfSquaredError(parameterTuple):\n",
    "    warnings.filterwarnings(\"ignore\") # do not print warnings by genetic algorithm\n",
    "    val = func(xData, *parameterTuple)\n",
    "    return numpy.sum((yData - val) ** 2.0)\n",
    "\n",
    "\n",
    "def generate_Initial_Parameters():\n",
    "    # min and max used for bounds\n",
    "    maxX = max(xData)\n",
    "    minX = min(xData)\n",
    "    maxY = max(yData)\n",
    "    minY = min(yData)\n",
    "\n",
    "    parameterBounds = []\n",
    "    parameterBounds.append([minX, maxX]) # search bounds for a\n",
    "    parameterBounds.append([minX, maxX]) # search bounds for b\n",
    "    parameterBounds.append([minX, maxX]) # search bounds for b\n",
    "    parameterBounds.append([minX, maxX]) # search bounds for b\n",
    "\n",
    "    # \"seed\" the numpy random number generator for repeatable results\n",
    "    result = differential_evolution(sumOfSquaredError, parameterBounds, seed=3)\n",
    "    return result.x\n",
    "\n",
    "# generate initial parameter values\n",
    "geneticParameters = generate_Initial_Parameters()\n",
    "\n",
    "# curve fit the test data\n",
    "fittedParameters, pcov = curve_fit(func, xData, yData, geneticParameters)\n",
    "\n",
    "print('Parameters', fittedParameters)\n",
    "\n",
    "modelPredictions = func(xData, *fittedParameters) \n",
    "\n",
    "absError = modelPredictions - yData\n",
    "\n",
    "SE = numpy.square(absError) # squared errors\n",
    "MSE = numpy.mean(SE) # mean squared errors\n",
    "RMSE = numpy.sqrt(MSE) # Root Mean Squared Error, RMSE\n",
    "Rsquared = 1.0 - (numpy.var(absError) / numpy.var(yData))\n",
    "print('RMSE:', RMSE)\n",
    "print('R-squared:', Rsquared)\n",
    "\n",
    "\n",
    "\n",
    "##########################################################\n",
    "# graphics output section\n",
    "def ModelAndScatterPlot(graphWidth, graphHeight):\n",
    "    f = plt.figure(figsize=(graphWidth/100.0, graphHeight/100.0), dpi=100)\n",
    "    axes = f.add_subplot(111)\n",
    "\n",
    "    # first the raw data as a scatter plot\n",
    "    axes.plot(xData, yData,\".\")\n",
    "\n",
    "    # create data for the fitted equation plot\n",
    "    xModel = numpy.linspace(min(xData), max(xData))\n",
    "    yModel = func(xModel, *fittedParameters)\n",
    "\n",
    "    # now the model as a line plot \n",
    "    axes.plot(xModel, yModel)\n",
    "\n",
    "    axes.set_ylabel(r'$P$',size=25) # X axis data label\n",
    "    axes.set_xlabel(r'$\\theta$',size=25) # Y axis data label\n",
    "    plt.ylim(min(yModel)-(min(yModel)/10),max(yModel)+(max(yModel)/10))\n",
    "    plt.errorbar(xData, yData, RMSE,0.02, marker='.',mec='b',mfc='black',color='black',ls='none')\n",
    "    plt.yticks(size=13)\n",
    "    plt.xticks([0,np.pi/18,np.pi/9,np.pi/6,40*np.pi/180,50*np.pi/180,np.pi/3,7*np.pi/18,8*np.pi/18,np.pi/2],[r'$0$',r'$\\frac{\\pi}{18}$',r'$\\frac{\\pi}{9}$',r'$\\frac{\\pi}{6}$',\n",
    "                                                                                                             r'$\\frac{\\pi}{18}$',r'$\\frac{2\\pi}{9}$',r'$\\frac{5\\pi}{18}$',r'$\\frac{\\pi}{3}$',\n",
    "                                                                                                            r'$\\frac{7\\pi}{18}$',r'$\\frac{\\pi}{2}$',],size=13)\n",
    "    plt.show()\n",
    "    plt.close('all') # clean up after using pyplot\n",
    "\n",
    "graphWidth = 800\n",
    "graphHeight = 600\n",
    "ModelAndScatterPlot(graphWidth, graphHeight)"
   ]
  },
  {
   "cell_type": "code",
   "execution_count": 42,
   "metadata": {},
   "outputs": [
    {
     "data": {
      "image/png": "[encoded data removed]",
      "text/plain": [
       "<Figure size 800x600 with 1 Axes>"
      ]
     },
     "metadata": {
      "needs_background": "light"
     },
     "output_type": "display_data"
    }
   ],
   "source": [
    "f = plt.figure(figsize=(graphWidth/100.0, graphHeight/100.0), dpi=100)\n",
    "axes = f.add_subplot(111)\n",
    "\n",
    "    # first the raw data as a scatter plot\n",
    "xData = valores\n",
    "yData = coincidencias2\n",
    "    # create data for the fitted equation plot\n",
    "xModel = numpy.linspace(min(xData), max(xData))\n",
    "yModel = f2(xModel, 0.49927373,  0.7157653  , 1.33752519 ,-0.44264815)\n",
    "\n",
    "    # now the model as a line plot \n",
    "axes.plot(xModel, yModel)\n",
    "axes.set_ylabel(r'$P$',size=25) # X axis data label\n",
    "axes.set_xlabel(r'$\\theta$',size=25) # Y axis data label\n",
    "plt.ylim(min(yData)-(min(yData)/10),max(yData)+(max(yData)/10))\n",
    "plt.errorbar(xData, yData, RMSE,0.02, marker='.',mec='b',mfc='black',color='black',ls='none')\n",
    "plt.yticks(size=13)\n",
    "plt.xticks([0,np.pi/18,np.pi/9,np.pi/6,40*np.pi/180,50*np.pi/180,np.pi/3,7*np.pi/18,8*np.pi/18,np.pi/2],[r'$0$',r'$\\frac{\\pi}{18}$',r'$\\frac{\\pi}{9}$',r'$\\frac{\\pi}{6}$',\n",
    "                                                                                                             r'$\\frac{\\pi}{18}$',r'$\\frac{2\\pi}{9}$',r'$\\frac{5\\pi}{18}$',r'$\\frac{\\pi}{3}$',\n",
    "                                                                                                            r'$\\frac{7\\pi}{18}$',r'$\\frac{\\pi}{2}$',],size=13)\n",
    "\n",
    "plt.show()\n",
    "plt.close('all') # clean up after using pyplot"
   ]
  },
  {
   "cell_type": "code",
   "execution_count": 47,
   "metadata": {},
   "outputs": [
    {
     "data": {
      "text/latex": [
       "$\\displaystyle 0.770762002859116$"
      ],
      "text/plain": [
       "0.770762002859116"
      ]
     },
     "execution_count": 47,
     "metadata": {},
     "output_type": "execute_result"
    }
   ],
   "source": [
    "cos(0.49927373)**2"
   ]
  },
  {
   "cell_type": "code",
   "execution_count": 46,
   "metadata": {},
   "outputs": [
    {
     "data": {
      "text/latex": [
       "$\\displaystyle 0.69156830467573$"
      ],
      "text/plain": [
       "0.691568304675730"
      ]
     },
     "execution_count": 46,
     "metadata": {},
     "output_type": "execute_result"
    }
   ],
   "source": [
    "cos( 0.58880334)**2"
   ]
  },
  {
   "cell_type": "code",
   "execution_count": 55,
   "metadata": {},
   "outputs": [
    {
     "data": {
      "text/plain": [
       "48.684210526315795"
      ]
     },
     "execution_count": 55,
     "metadata": {},
     "output_type": "execute_result"
    }
   ],
   "source": [
    "100/(39/37 +1)"
   ]
  },
  {
   "cell_type": "code",
   "execution_count": 54,
   "metadata": {},
   "outputs": [
    {
     "data": {
      "text/plain": [
       "1.054054054054054"
      ]
     },
     "execution_count": 54,
     "metadata": {},
     "output_type": "execute_result"
    }
   ],
   "source": [
    "39/37"
   ]
  },
  {
   "cell_type": "code",
   "execution_count": null,
   "metadata": {},
   "outputs": [],
   "source": []
  }
 ],
 "metadata": {
  "kernelspec": {
   "display_name": "Python 3",
   "language": "python",
   "name": "python3"
  },
  "language_info": {
   "codemirror_mode": {
    "name": "ipython",
    "version": 3
   },
   "file_extension": ".py",
   "mimetype": "text/x-python",
   "name": "python",
   "nbconvert_exporter": "python",
   "pygments_lexer": "ipython3",
   "version": "3.7.6"
  }
 },
 "nbformat": 4,
 "nbformat_minor": 4
}
